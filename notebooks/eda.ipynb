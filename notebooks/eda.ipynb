{
 "cells": [
  {
   "cell_type": "code",
   "execution_count": 19,
   "metadata": {
    "collapsed": true,
    "pycharm": {
     "name": "#%%\n"
    }
   },
   "outputs": [],
   "source": [
    "import pandas as pd\n",
    "import glob\n",
    "import os\n",
    "import csv\n",
    "from tqdm import tqdm"
   ]
  },
  {
   "cell_type": "code",
   "execution_count": 21,
   "outputs": [],
   "source": [
    "tqdm.pandas()"
   ],
   "metadata": {
    "collapsed": false,
    "pycharm": {
     "name": "#%%\n"
    }
   }
  },
  {
   "cell_type": "code",
   "execution_count": 41,
   "outputs": [],
   "source": [
    "import csv\n",
    "df = pd.read_csv('../data/iahlt-release-2022-06-09/ne/he/0a1db4f4df5168a8018bbfd871fe011ea3ddb28d668ae2b697ab2cefce18ad3e.jsonl.align.tokens.biose', sep='\\t', on_bad_lines='skip', quoting=csv.QUOTE_NONE, encoding='utf-8',\n",
    "                 header=0, names=[\"text\", \"ner\"])"
   ],
   "metadata": {
    "collapsed": false,
    "pycharm": {
     "name": "#%%\n"
    }
   }
  },
  {
   "cell_type": "code",
   "execution_count": 42,
   "outputs": [
    {
     "data": {
      "text/plain": "709"
     },
     "execution_count": 42,
     "metadata": {},
     "output_type": "execute_result"
    }
   ],
   "source": [
    "len(df)"
   ],
   "metadata": {
    "collapsed": false,
    "pycharm": {
     "name": "#%%\n"
    }
   }
  },
  {
   "cell_type": "code",
   "execution_count": 43,
   "outputs": [
    {
     "data": {
      "text/plain": "709"
     },
     "execution_count": 43,
     "metadata": {},
     "output_type": "execute_result"
    }
   ],
   "source": [
    "ohe = pd.get_dummies(data=df, columns=['ner'])\n",
    "len(ohe)"
   ],
   "metadata": {
    "collapsed": false,
    "pycharm": {
     "name": "#%%\n"
    }
   }
  },
  {
   "cell_type": "code",
   "execution_count": 45,
   "outputs": [
    {
     "data": {
      "text/plain": "        text  ner_B-FAC  ner_B-GPE  ner_B-LOC  ner_B-ORG  ner_B-PER  \\\n0        אחת          0          0          0          0          0   \n1          ,          0          0          0          0          0   \n2        שני          0          0          0          0          0   \n3       עמים          0          0          0          0          0   \n4          ה          0          0          0          0          0   \n5   פלסטינים          0          0          0          0          0   \n6     זועמים          0          0          0          0          0   \n7         על          0          0          0          0          0   \n8      העברת          0          0          0          0          0   \n9          ה          1          0          0          0          0   \n10  קונסוליה          0          0          0          0          0   \n11         ה          0          0          0          0          0   \n12  אמריקאית          0          0          0          0          0   \n13       תחת          0          0          0          0          0   \n14         ה          0          0          0          0          0   \n15     שגריר          0          0          0          0          0   \n16    פרידמן          0          0          0          0          0   \n17         ה          0          0          0          0          0   \n18     החלטה          0          0          0          0          0   \n19         ,          0          0          0          0          0   \n\n    ner_B-TIMEX  ner_B-TTL  ner_E-FAC  ner_E-FAC|S-GPE  ...  ner_I-GPE  \\\n0             0          0          0                0  ...          0   \n1             0          0          0                0  ...          0   \n2             0          0          0                0  ...          0   \n3             0          0          0                0  ...          0   \n4             0          0          0                0  ...          0   \n5             0          0          0                0  ...          0   \n6             0          0          0                0  ...          0   \n7             0          0          0                0  ...          0   \n8             0          0          0                0  ...          0   \n9             0          0          0                0  ...          0   \n10            0          0          0                0  ...          0   \n11            0          0          0                0  ...          0   \n12            0          0          1                0  ...          0   \n13            0          0          0                0  ...          0   \n14            0          1          0                0  ...          0   \n15            0          0          0                0  ...          0   \n16            0          0          0                0  ...          0   \n17            0          0          0                0  ...          0   \n18            0          0          0                0  ...          0   \n19            0          0          0                0  ...          0   \n\n    ner_I-LOC  ner_I-ORG  ner_I-PER  ner_I-TTL  ner_O  ner_S-GPE  ner_S-PER  \\\n0           0          0          0          0      1          0          0   \n1           0          0          0          0      1          0          0   \n2           0          0          0          0      1          0          0   \n3           0          0          0          0      1          0          0   \n4           0          0          0          0      1          0          0   \n5           0          0          0          0      0          1          0   \n6           0          0          0          0      1          0          0   \n7           0          0          0          0      1          0          0   \n8           0          0          0          0      1          0          0   \n9           0          0          0          0      0          0          0   \n10          0          0          0          0      0          0          0   \n11          0          0          0          0      0          0          0   \n12          0          0          0          0      0          0          0   \n13          0          0          0          0      1          0          0   \n14          0          0          0          0      0          0          0   \n15          0          0          0          0      0          0          0   \n16          0          0          0          0      0          0          1   \n17          0          0          0          0      1          0          0   \n18          0          0          0          0      1          0          0   \n19          0          0          0          0      1          0          0   \n\n    ner_S-TIMEX  ner_S-TTL  \n0             0          0  \n1             0          0  \n2             0          0  \n3             0          0  \n4             0          0  \n5             0          0  \n6             0          0  \n7             0          0  \n8             0          0  \n9             0          0  \n10            0          0  \n11            0          0  \n12            0          0  \n13            0          0  \n14            0          0  \n15            0          0  \n16            0          0  \n17            0          0  \n18            0          0  \n19            0          0  \n\n[20 rows x 30 columns]",
      "text/html": "<div>\n<style scoped>\n    .dataframe tbody tr th:only-of-type {\n        vertical-align: middle;\n    }\n\n    .dataframe tbody tr th {\n        vertical-align: top;\n    }\n\n    .dataframe thead th {\n        text-align: right;\n    }\n</style>\n<table border=\"1\" class=\"dataframe\">\n  <thead>\n    <tr style=\"text-align: right;\">\n      <th></th>\n      <th>text</th>\n      <th>ner_B-FAC</th>\n      <th>ner_B-GPE</th>\n      <th>ner_B-LOC</th>\n      <th>ner_B-ORG</th>\n      <th>ner_B-PER</th>\n      <th>ner_B-TIMEX</th>\n      <th>ner_B-TTL</th>\n      <th>ner_E-FAC</th>\n      <th>ner_E-FAC|S-GPE</th>\n      <th>...</th>\n      <th>ner_I-GPE</th>\n      <th>ner_I-LOC</th>\n      <th>ner_I-ORG</th>\n      <th>ner_I-PER</th>\n      <th>ner_I-TTL</th>\n      <th>ner_O</th>\n      <th>ner_S-GPE</th>\n      <th>ner_S-PER</th>\n      <th>ner_S-TIMEX</th>\n      <th>ner_S-TTL</th>\n    </tr>\n  </thead>\n  <tbody>\n    <tr>\n      <th>0</th>\n      <td>אחת</td>\n      <td>0</td>\n      <td>0</td>\n      <td>0</td>\n      <td>0</td>\n      <td>0</td>\n      <td>0</td>\n      <td>0</td>\n      <td>0</td>\n      <td>0</td>\n      <td>...</td>\n      <td>0</td>\n      <td>0</td>\n      <td>0</td>\n      <td>0</td>\n      <td>0</td>\n      <td>1</td>\n      <td>0</td>\n      <td>0</td>\n      <td>0</td>\n      <td>0</td>\n    </tr>\n    <tr>\n      <th>1</th>\n      <td>,</td>\n      <td>0</td>\n      <td>0</td>\n      <td>0</td>\n      <td>0</td>\n      <td>0</td>\n      <td>0</td>\n      <td>0</td>\n      <td>0</td>\n      <td>0</td>\n      <td>...</td>\n      <td>0</td>\n      <td>0</td>\n      <td>0</td>\n      <td>0</td>\n      <td>0</td>\n      <td>1</td>\n      <td>0</td>\n      <td>0</td>\n      <td>0</td>\n      <td>0</td>\n    </tr>\n    <tr>\n      <th>2</th>\n      <td>שני</td>\n      <td>0</td>\n      <td>0</td>\n      <td>0</td>\n      <td>0</td>\n      <td>0</td>\n      <td>0</td>\n      <td>0</td>\n      <td>0</td>\n      <td>0</td>\n      <td>...</td>\n      <td>0</td>\n      <td>0</td>\n      <td>0</td>\n      <td>0</td>\n      <td>0</td>\n      <td>1</td>\n      <td>0</td>\n      <td>0</td>\n      <td>0</td>\n      <td>0</td>\n    </tr>\n    <tr>\n      <th>3</th>\n      <td>עמים</td>\n      <td>0</td>\n      <td>0</td>\n      <td>0</td>\n      <td>0</td>\n      <td>0</td>\n      <td>0</td>\n      <td>0</td>\n      <td>0</td>\n      <td>0</td>\n      <td>...</td>\n      <td>0</td>\n      <td>0</td>\n      <td>0</td>\n      <td>0</td>\n      <td>0</td>\n      <td>1</td>\n      <td>0</td>\n      <td>0</td>\n      <td>0</td>\n      <td>0</td>\n    </tr>\n    <tr>\n      <th>4</th>\n      <td>ה</td>\n      <td>0</td>\n      <td>0</td>\n      <td>0</td>\n      <td>0</td>\n      <td>0</td>\n      <td>0</td>\n      <td>0</td>\n      <td>0</td>\n      <td>0</td>\n      <td>...</td>\n      <td>0</td>\n      <td>0</td>\n      <td>0</td>\n      <td>0</td>\n      <td>0</td>\n      <td>1</td>\n      <td>0</td>\n      <td>0</td>\n      <td>0</td>\n      <td>0</td>\n    </tr>\n    <tr>\n      <th>5</th>\n      <td>פלסטינים</td>\n      <td>0</td>\n      <td>0</td>\n      <td>0</td>\n      <td>0</td>\n      <td>0</td>\n      <td>0</td>\n      <td>0</td>\n      <td>0</td>\n      <td>0</td>\n      <td>...</td>\n      <td>0</td>\n      <td>0</td>\n      <td>0</td>\n      <td>0</td>\n      <td>0</td>\n      <td>0</td>\n      <td>1</td>\n      <td>0</td>\n      <td>0</td>\n      <td>0</td>\n    </tr>\n    <tr>\n      <th>6</th>\n      <td>זועמים</td>\n      <td>0</td>\n      <td>0</td>\n      <td>0</td>\n      <td>0</td>\n      <td>0</td>\n      <td>0</td>\n      <td>0</td>\n      <td>0</td>\n      <td>0</td>\n      <td>...</td>\n      <td>0</td>\n      <td>0</td>\n      <td>0</td>\n      <td>0</td>\n      <td>0</td>\n      <td>1</td>\n      <td>0</td>\n      <td>0</td>\n      <td>0</td>\n      <td>0</td>\n    </tr>\n    <tr>\n      <th>7</th>\n      <td>על</td>\n      <td>0</td>\n      <td>0</td>\n      <td>0</td>\n      <td>0</td>\n      <td>0</td>\n      <td>0</td>\n      <td>0</td>\n      <td>0</td>\n      <td>0</td>\n      <td>...</td>\n      <td>0</td>\n      <td>0</td>\n      <td>0</td>\n      <td>0</td>\n      <td>0</td>\n      <td>1</td>\n      <td>0</td>\n      <td>0</td>\n      <td>0</td>\n      <td>0</td>\n    </tr>\n    <tr>\n      <th>8</th>\n      <td>העברת</td>\n      <td>0</td>\n      <td>0</td>\n      <td>0</td>\n      <td>0</td>\n      <td>0</td>\n      <td>0</td>\n      <td>0</td>\n      <td>0</td>\n      <td>0</td>\n      <td>...</td>\n      <td>0</td>\n      <td>0</td>\n      <td>0</td>\n      <td>0</td>\n      <td>0</td>\n      <td>1</td>\n      <td>0</td>\n      <td>0</td>\n      <td>0</td>\n      <td>0</td>\n    </tr>\n    <tr>\n      <th>9</th>\n      <td>ה</td>\n      <td>1</td>\n      <td>0</td>\n      <td>0</td>\n      <td>0</td>\n      <td>0</td>\n      <td>0</td>\n      <td>0</td>\n      <td>0</td>\n      <td>0</td>\n      <td>...</td>\n      <td>0</td>\n      <td>0</td>\n      <td>0</td>\n      <td>0</td>\n      <td>0</td>\n      <td>0</td>\n      <td>0</td>\n      <td>0</td>\n      <td>0</td>\n      <td>0</td>\n    </tr>\n    <tr>\n      <th>10</th>\n      <td>קונסוליה</td>\n      <td>0</td>\n      <td>0</td>\n      <td>0</td>\n      <td>0</td>\n      <td>0</td>\n      <td>0</td>\n      <td>0</td>\n      <td>0</td>\n      <td>0</td>\n      <td>...</td>\n      <td>0</td>\n      <td>0</td>\n      <td>0</td>\n      <td>0</td>\n      <td>0</td>\n      <td>0</td>\n      <td>0</td>\n      <td>0</td>\n      <td>0</td>\n      <td>0</td>\n    </tr>\n    <tr>\n      <th>11</th>\n      <td>ה</td>\n      <td>0</td>\n      <td>0</td>\n      <td>0</td>\n      <td>0</td>\n      <td>0</td>\n      <td>0</td>\n      <td>0</td>\n      <td>0</td>\n      <td>0</td>\n      <td>...</td>\n      <td>0</td>\n      <td>0</td>\n      <td>0</td>\n      <td>0</td>\n      <td>0</td>\n      <td>0</td>\n      <td>0</td>\n      <td>0</td>\n      <td>0</td>\n      <td>0</td>\n    </tr>\n    <tr>\n      <th>12</th>\n      <td>אמריקאית</td>\n      <td>0</td>\n      <td>0</td>\n      <td>0</td>\n      <td>0</td>\n      <td>0</td>\n      <td>0</td>\n      <td>0</td>\n      <td>1</td>\n      <td>0</td>\n      <td>...</td>\n      <td>0</td>\n      <td>0</td>\n      <td>0</td>\n      <td>0</td>\n      <td>0</td>\n      <td>0</td>\n      <td>0</td>\n      <td>0</td>\n      <td>0</td>\n      <td>0</td>\n    </tr>\n    <tr>\n      <th>13</th>\n      <td>תחת</td>\n      <td>0</td>\n      <td>0</td>\n      <td>0</td>\n      <td>0</td>\n      <td>0</td>\n      <td>0</td>\n      <td>0</td>\n      <td>0</td>\n      <td>0</td>\n      <td>...</td>\n      <td>0</td>\n      <td>0</td>\n      <td>0</td>\n      <td>0</td>\n      <td>0</td>\n      <td>1</td>\n      <td>0</td>\n      <td>0</td>\n      <td>0</td>\n      <td>0</td>\n    </tr>\n    <tr>\n      <th>14</th>\n      <td>ה</td>\n      <td>0</td>\n      <td>0</td>\n      <td>0</td>\n      <td>0</td>\n      <td>0</td>\n      <td>0</td>\n      <td>1</td>\n      <td>0</td>\n      <td>0</td>\n      <td>...</td>\n      <td>0</td>\n      <td>0</td>\n      <td>0</td>\n      <td>0</td>\n      <td>0</td>\n      <td>0</td>\n      <td>0</td>\n      <td>0</td>\n      <td>0</td>\n      <td>0</td>\n    </tr>\n    <tr>\n      <th>15</th>\n      <td>שגריר</td>\n      <td>0</td>\n      <td>0</td>\n      <td>0</td>\n      <td>0</td>\n      <td>0</td>\n      <td>0</td>\n      <td>0</td>\n      <td>0</td>\n      <td>0</td>\n      <td>...</td>\n      <td>0</td>\n      <td>0</td>\n      <td>0</td>\n      <td>0</td>\n      <td>0</td>\n      <td>0</td>\n      <td>0</td>\n      <td>0</td>\n      <td>0</td>\n      <td>0</td>\n    </tr>\n    <tr>\n      <th>16</th>\n      <td>פרידמן</td>\n      <td>0</td>\n      <td>0</td>\n      <td>0</td>\n      <td>0</td>\n      <td>0</td>\n      <td>0</td>\n      <td>0</td>\n      <td>0</td>\n      <td>0</td>\n      <td>...</td>\n      <td>0</td>\n      <td>0</td>\n      <td>0</td>\n      <td>0</td>\n      <td>0</td>\n      <td>0</td>\n      <td>0</td>\n      <td>1</td>\n      <td>0</td>\n      <td>0</td>\n    </tr>\n    <tr>\n      <th>17</th>\n      <td>ה</td>\n      <td>0</td>\n      <td>0</td>\n      <td>0</td>\n      <td>0</td>\n      <td>0</td>\n      <td>0</td>\n      <td>0</td>\n      <td>0</td>\n      <td>0</td>\n      <td>...</td>\n      <td>0</td>\n      <td>0</td>\n      <td>0</td>\n      <td>0</td>\n      <td>0</td>\n      <td>1</td>\n      <td>0</td>\n      <td>0</td>\n      <td>0</td>\n      <td>0</td>\n    </tr>\n    <tr>\n      <th>18</th>\n      <td>החלטה</td>\n      <td>0</td>\n      <td>0</td>\n      <td>0</td>\n      <td>0</td>\n      <td>0</td>\n      <td>0</td>\n      <td>0</td>\n      <td>0</td>\n      <td>0</td>\n      <td>...</td>\n      <td>0</td>\n      <td>0</td>\n      <td>0</td>\n      <td>0</td>\n      <td>0</td>\n      <td>1</td>\n      <td>0</td>\n      <td>0</td>\n      <td>0</td>\n      <td>0</td>\n    </tr>\n    <tr>\n      <th>19</th>\n      <td>,</td>\n      <td>0</td>\n      <td>0</td>\n      <td>0</td>\n      <td>0</td>\n      <td>0</td>\n      <td>0</td>\n      <td>0</td>\n      <td>0</td>\n      <td>0</td>\n      <td>...</td>\n      <td>0</td>\n      <td>0</td>\n      <td>0</td>\n      <td>0</td>\n      <td>0</td>\n      <td>1</td>\n      <td>0</td>\n      <td>0</td>\n      <td>0</td>\n      <td>0</td>\n    </tr>\n  </tbody>\n</table>\n<p>20 rows × 30 columns</p>\n</div>"
     },
     "execution_count": 45,
     "metadata": {},
     "output_type": "execute_result"
    }
   ],
   "source": [
    "ohe.head(20)"
   ],
   "metadata": {
    "collapsed": false,
    "pycharm": {
     "name": "#%%\n"
    }
   }
  },
  {
   "cell_type": "code",
   "execution_count": 47,
   "outputs": [],
   "source": [
    "import glob\n",
    "import os\n",
    "path = '../data/iahlt-release-2022-06-09/ne/he'\n",
    "all_files = glob.glob(os.path.join(path, \"*.biose\"))\n",
    "\n",
    "df = pd.concat(\n",
    "    (\n",
    "        pd.read_csv(\n",
    "            f, sep='\\t', on_bad_lines='skip', quoting=csv.QUOTE_NONE, encoding='utf-8',\n",
    "                 header=0, names=[\"text\", \"ner\"]\n",
    "        ) for f in all_files), ignore_index=True)"
   ],
   "metadata": {
    "collapsed": false,
    "pycharm": {
     "name": "#%%\n"
    }
   }
  },
  {
   "cell_type": "code",
   "execution_count": 48,
   "outputs": [
    {
     "data": {
      "text/plain": "     text      ner\n0  המלצות        O\n1    ועדת    B-ORG\n2  תעסוקה    E-ORG\n3    2030  S-TIMEX\n4       :        O",
      "text/html": "<div>\n<style scoped>\n    .dataframe tbody tr th:only-of-type {\n        vertical-align: middle;\n    }\n\n    .dataframe tbody tr th {\n        vertical-align: top;\n    }\n\n    .dataframe thead th {\n        text-align: right;\n    }\n</style>\n<table border=\"1\" class=\"dataframe\">\n  <thead>\n    <tr style=\"text-align: right;\">\n      <th></th>\n      <th>text</th>\n      <th>ner</th>\n    </tr>\n  </thead>\n  <tbody>\n    <tr>\n      <th>0</th>\n      <td>המלצות</td>\n      <td>O</td>\n    </tr>\n    <tr>\n      <th>1</th>\n      <td>ועדת</td>\n      <td>B-ORG</td>\n    </tr>\n    <tr>\n      <th>2</th>\n      <td>תעסוקה</td>\n      <td>E-ORG</td>\n    </tr>\n    <tr>\n      <th>3</th>\n      <td>2030</td>\n      <td>S-TIMEX</td>\n    </tr>\n    <tr>\n      <th>4</th>\n      <td>:</td>\n      <td>O</td>\n    </tr>\n  </tbody>\n</table>\n</div>"
     },
     "execution_count": 48,
     "metadata": {},
     "output_type": "execute_result"
    }
   ],
   "source": [
    "df.head()"
   ],
   "metadata": {
    "collapsed": false,
    "pycharm": {
     "name": "#%%\n"
    }
   }
  },
  {
   "cell_type": "code",
   "execution_count": 49,
   "outputs": [
    {
     "data": {
      "text/plain": "1120264"
     },
     "execution_count": 49,
     "metadata": {},
     "output_type": "execute_result"
    }
   ],
   "source": [
    "len(df)"
   ],
   "metadata": {
    "collapsed": false,
    "pycharm": {
     "name": "#%%\n"
    }
   }
  },
  {
   "cell_type": "code",
   "execution_count": 50,
   "outputs": [
    {
     "data": {
      "text/plain": "1120264"
     },
     "execution_count": 50,
     "metadata": {},
     "output_type": "execute_result"
    }
   ],
   "source": [
    "ohe = pd.get_dummies(data=df, columns=['ner'])\n",
    "len(ohe)"
   ],
   "metadata": {
    "collapsed": false,
    "pycharm": {
     "name": "#%%\n"
    }
   }
  },
  {
   "cell_type": "code",
   "execution_count": 51,
   "outputs": [
    {
     "data": {
      "text/plain": "O                     1006607\nI-ORG                   11262\nB-ORG                    9055\nS-GPE                    8560\nE-ORG                    7648\n                       ...   \nI-MISC|B-DUC                1\nI-TIMEX|S-GPE               1\nB-LOC|E-GPE|E-TTL           1\nE-TTL|E-MISC|S-PER          1\nS-LOC|E-MISC|E-EVE          1\nName: ner, Length: 717, dtype: int64"
     },
     "execution_count": 51,
     "metadata": {},
     "output_type": "execute_result"
    }
   ],
   "source": [
    "df['ner'].value_counts()"
   ],
   "metadata": {
    "collapsed": false,
    "pycharm": {
     "name": "#%%\n"
    }
   }
  },
  {
   "cell_type": "code",
   "execution_count": 62,
   "outputs": [
    {
     "data": {
      "text/plain": "             text    ner\n206       אקשטיין  S-PER\n986          חיים  S-PER\n1079         חיים  S-PER\n1595         חיים  S-PER\n1902         עזרא  S-PER\n...           ...    ...\n1118901       ממן  S-PER\n1119002  רוזנבאום  S-PER\n1119185       שיר  S-PER\n1119264      אמבש  S-PER\n1120203      אסאד  S-PER\n\n[6277 rows x 2 columns]",
      "text/html": "<div>\n<style scoped>\n    .dataframe tbody tr th:only-of-type {\n        vertical-align: middle;\n    }\n\n    .dataframe tbody tr th {\n        vertical-align: top;\n    }\n\n    .dataframe thead th {\n        text-align: right;\n    }\n</style>\n<table border=\"1\" class=\"dataframe\">\n  <thead>\n    <tr style=\"text-align: right;\">\n      <th></th>\n      <th>text</th>\n      <th>ner</th>\n    </tr>\n  </thead>\n  <tbody>\n    <tr>\n      <th>206</th>\n      <td>אקשטיין</td>\n      <td>S-PER</td>\n    </tr>\n    <tr>\n      <th>986</th>\n      <td>חיים</td>\n      <td>S-PER</td>\n    </tr>\n    <tr>\n      <th>1079</th>\n      <td>חיים</td>\n      <td>S-PER</td>\n    </tr>\n    <tr>\n      <th>1595</th>\n      <td>חיים</td>\n      <td>S-PER</td>\n    </tr>\n    <tr>\n      <th>1902</th>\n      <td>עזרא</td>\n      <td>S-PER</td>\n    </tr>\n    <tr>\n      <th>...</th>\n      <td>...</td>\n      <td>...</td>\n    </tr>\n    <tr>\n      <th>1118901</th>\n      <td>ממן</td>\n      <td>S-PER</td>\n    </tr>\n    <tr>\n      <th>1119002</th>\n      <td>רוזנבאום</td>\n      <td>S-PER</td>\n    </tr>\n    <tr>\n      <th>1119185</th>\n      <td>שיר</td>\n      <td>S-PER</td>\n    </tr>\n    <tr>\n      <th>1119264</th>\n      <td>אמבש</td>\n      <td>S-PER</td>\n    </tr>\n    <tr>\n      <th>1120203</th>\n      <td>אסאד</td>\n      <td>S-PER</td>\n    </tr>\n  </tbody>\n</table>\n<p>6277 rows × 2 columns</p>\n</div>"
     },
     "execution_count": 62,
     "metadata": {},
     "output_type": "execute_result"
    }
   ],
   "source": [
    "df[df['ner']=='S-PER']"
   ],
   "metadata": {
    "collapsed": false,
    "pycharm": {
     "name": "#%%\n"
    }
   }
  },
  {
   "cell_type": "code",
   "execution_count": 82,
   "outputs": [],
   "source": [
    "def load_dataset_to_df(path, pattern=\"*.biose\", columns=[\"text\", \"ner\"]):\n",
    "    all_files = glob.glob(os.path.join(path, pattern))\n",
    "\n",
    "    res = pd.DataFrame()\n",
    "    for count, f in enumerate(tqdm(all_files)):\n",
    "        df = pd.read_csv(\n",
    "                f, sep='\\t', on_bad_lines='skip', quoting=csv.QUOTE_NONE, encoding='utf-8',\n",
    "                     header=0, names=columns\n",
    "        )\n",
    "        df['sentence_id'] = count\n",
    "        res = pd.concat([res, df])\n",
    "    return res.reset_index(drop=True)"
   ],
   "metadata": {
    "collapsed": false,
    "pycharm": {
     "name": "#%%\n"
    }
   }
  },
  {
   "cell_type": "code",
   "execution_count": 83,
   "outputs": [
    {
     "name": "stderr",
     "output_type": "stream",
     "text": [
      "100%|██████████| 971/971 [00:06<00:00, 148.69it/s]\n"
     ]
    }
   ],
   "source": [
    "path = '../data/iahlt-release-2022-06-09/ne/ar'\n",
    "df_ar = load_dataset_to_df(path)"
   ],
   "metadata": {
    "collapsed": false,
    "pycharm": {
     "name": "#%%\n"
    }
   }
  },
  {
   "cell_type": "code",
   "execution_count": 78,
   "outputs": [],
   "source": [],
   "metadata": {
    "collapsed": false,
    "pycharm": {
     "name": "#%%\n"
    }
   }
  },
  {
   "cell_type": "code",
   "execution_count": 84,
   "outputs": [
    {
     "data": {
      "text/plain": "802682"
     },
     "execution_count": 84,
     "metadata": {},
     "output_type": "execute_result"
    }
   ],
   "source": [
    "len(df_ar)"
   ],
   "metadata": {
    "collapsed": false,
    "pycharm": {
     "name": "#%%\n"
    }
   }
  },
  {
   "cell_type": "code",
   "execution_count": 85,
   "outputs": [
    {
     "data": {
      "text/plain": "     text ner  sentence_id\n0       و   O            0\n1  مصابان   O            0\n2      في   O            0\n3   أحداث   O            0\n4     عنف   O            0",
      "text/html": "<div>\n<style scoped>\n    .dataframe tbody tr th:only-of-type {\n        vertical-align: middle;\n    }\n\n    .dataframe tbody tr th {\n        vertical-align: top;\n    }\n\n    .dataframe thead th {\n        text-align: right;\n    }\n</style>\n<table border=\"1\" class=\"dataframe\">\n  <thead>\n    <tr style=\"text-align: right;\">\n      <th></th>\n      <th>text</th>\n      <th>ner</th>\n      <th>sentence_id</th>\n    </tr>\n  </thead>\n  <tbody>\n    <tr>\n      <th>0</th>\n      <td>و</td>\n      <td>O</td>\n      <td>0</td>\n    </tr>\n    <tr>\n      <th>1</th>\n      <td>مصابان</td>\n      <td>O</td>\n      <td>0</td>\n    </tr>\n    <tr>\n      <th>2</th>\n      <td>في</td>\n      <td>O</td>\n      <td>0</td>\n    </tr>\n    <tr>\n      <th>3</th>\n      <td>أحداث</td>\n      <td>O</td>\n      <td>0</td>\n    </tr>\n    <tr>\n      <th>4</th>\n      <td>عنف</td>\n      <td>O</td>\n      <td>0</td>\n    </tr>\n  </tbody>\n</table>\n</div>"
     },
     "execution_count": 85,
     "metadata": {},
     "output_type": "execute_result"
    }
   ],
   "source": [
    "df_ar.head()"
   ],
   "metadata": {
    "collapsed": false,
    "pycharm": {
     "name": "#%%\n"
    }
   }
  },
  {
   "cell_type": "code",
   "execution_count": 66,
   "outputs": [
    {
     "data": {
      "text/plain": "       text    ner  sentence_id\n188   يورام  B-PER            0\n285   أرنون  B-PER            1\n298   أوفير  B-PER            1\n321     بار  B-PER            1\n326     آڤي  B-PER            1\n...     ...    ...          ...\n277   سانتا  B-PER          969\n1226  يوحنا  B-PER          969\n1664   جوان  B-PER          969\n1824   ماري  B-PER          969\n2411  نعمان  B-PER          969\n\n[3810 rows x 3 columns]",
      "text/html": "<div>\n<style scoped>\n    .dataframe tbody tr th:only-of-type {\n        vertical-align: middle;\n    }\n\n    .dataframe tbody tr th {\n        vertical-align: top;\n    }\n\n    .dataframe thead th {\n        text-align: right;\n    }\n</style>\n<table border=\"1\" class=\"dataframe\">\n  <thead>\n    <tr style=\"text-align: right;\">\n      <th></th>\n      <th>text</th>\n      <th>ner</th>\n      <th>sentence_id</th>\n    </tr>\n  </thead>\n  <tbody>\n    <tr>\n      <th>188</th>\n      <td>يورام</td>\n      <td>B-PER</td>\n      <td>0</td>\n    </tr>\n    <tr>\n      <th>285</th>\n      <td>أرنون</td>\n      <td>B-PER</td>\n      <td>1</td>\n    </tr>\n    <tr>\n      <th>298</th>\n      <td>أوفير</td>\n      <td>B-PER</td>\n      <td>1</td>\n    </tr>\n    <tr>\n      <th>321</th>\n      <td>بار</td>\n      <td>B-PER</td>\n      <td>1</td>\n    </tr>\n    <tr>\n      <th>326</th>\n      <td>آڤي</td>\n      <td>B-PER</td>\n      <td>1</td>\n    </tr>\n    <tr>\n      <th>...</th>\n      <td>...</td>\n      <td>...</td>\n      <td>...</td>\n    </tr>\n    <tr>\n      <th>277</th>\n      <td>سانتا</td>\n      <td>B-PER</td>\n      <td>969</td>\n    </tr>\n    <tr>\n      <th>1226</th>\n      <td>يوحنا</td>\n      <td>B-PER</td>\n      <td>969</td>\n    </tr>\n    <tr>\n      <th>1664</th>\n      <td>جوان</td>\n      <td>B-PER</td>\n      <td>969</td>\n    </tr>\n    <tr>\n      <th>1824</th>\n      <td>ماري</td>\n      <td>B-PER</td>\n      <td>969</td>\n    </tr>\n    <tr>\n      <th>2411</th>\n      <td>نعمان</td>\n      <td>B-PER</td>\n      <td>969</td>\n    </tr>\n  </tbody>\n</table>\n<p>3810 rows × 3 columns</p>\n</div>"
     },
     "execution_count": 66,
     "metadata": {},
     "output_type": "execute_result"
    }
   ],
   "source": [
    "df_ar[df_ar['ner']=='B-PER']"
   ],
   "metadata": {
    "collapsed": false,
    "pycharm": {
     "name": "#%%\n"
    }
   }
  },
  {
   "cell_type": "code",
   "execution_count": 12,
   "outputs": [],
   "source": [
    "import googletrans\n",
    "from googletrans import Translator"
   ],
   "metadata": {
    "collapsed": false,
    "pycharm": {
     "name": "#%%\n"
    }
   }
  },
  {
   "cell_type": "markdown",
   "source": [],
   "metadata": {
    "collapsed": false,
    "pycharm": {
     "name": "#%% md\n"
    }
   }
  },
  {
   "cell_type": "code",
   "execution_count": 14,
   "outputs": [
    {
     "name": "stdout",
     "output_type": "stream",
     "text": [
      "The sky is blue and I like bananas\n"
     ]
    }
   ],
   "source": [
    "translator = Translator()\n",
    "translation = translator.translate(\"Der Himmel ist blau und ich mag Bananen\", dest='en')\n",
    "print(translation.text)"
   ],
   "metadata": {
    "collapsed": false,
    "pycharm": {
     "name": "#%%\n"
    }
   }
  },
  {
   "cell_type": "code",
   "execution_count": 24,
   "outputs": [
    {
     "name": "stderr",
     "output_type": "stream",
     "text": [
      " 17%|█▋        | 136694/802682 [10:46:44<52:31:00,  3.52it/s]\n"
     ]
    },
    {
     "ename": "ReadTimeout",
     "evalue": "The read operation timed out",
     "output_type": "error",
     "traceback": [
      "\u001B[0;31m---------------------------------------------------------------------------\u001B[0m",
      "\u001B[0;31mReadTimeout\u001B[0m                               Traceback (most recent call last)",
      "Input \u001B[0;32mIn [24]\u001B[0m, in \u001B[0;36m<cell line: 1>\u001B[0;34m()\u001B[0m\n\u001B[0;32m----> 1\u001B[0m df_ar[\u001B[38;5;124m'\u001B[39m\u001B[38;5;124mtranslated_value\u001B[39m\u001B[38;5;124m'\u001B[39m] \u001B[38;5;241m=\u001B[39m \u001B[43mdf_ar\u001B[49m\u001B[43m[\u001B[49m\u001B[38;5;124;43m'\u001B[39;49m\u001B[38;5;124;43mtext\u001B[39;49m\u001B[38;5;124;43m'\u001B[39;49m\u001B[43m]\u001B[49m\u001B[38;5;241;43m.\u001B[39;49m\u001B[43mprogress_apply\u001B[49m\u001B[43m(\u001B[49m\u001B[38;5;28;43;01mlambda\u001B[39;49;00m\u001B[43m \u001B[49m\u001B[43mx\u001B[49m\u001B[43m:\u001B[49m\u001B[43m \u001B[49m\u001B[43mtranslator\u001B[49m\u001B[38;5;241;43m.\u001B[39;49m\u001B[43mtranslate\u001B[49m\u001B[43m(\u001B[49m\u001B[43mx\u001B[49m\u001B[43m,\u001B[49m\u001B[43m \u001B[49m\u001B[43mdest\u001B[49m\u001B[38;5;241;43m=\u001B[39;49m\u001B[38;5;124;43m'\u001B[39;49m\u001B[38;5;124;43men\u001B[39;49m\u001B[38;5;124;43m'\u001B[39;49m\u001B[43m)\u001B[49m\u001B[38;5;241;43m.\u001B[39;49m\u001B[43mtext\u001B[49m\u001B[43m)\u001B[49m\n",
      "File \u001B[0;32m~/git/huggingface_project_template/venv/lib/python3.8/site-packages/tqdm/std.py:814\u001B[0m, in \u001B[0;36mtqdm.pandas.<locals>.inner_generator.<locals>.inner\u001B[0;34m(df, func, *args, **kwargs)\u001B[0m\n\u001B[1;32m    811\u001B[0m \u001B[38;5;66;03m# Apply the provided function (in **kwargs)\u001B[39;00m\n\u001B[1;32m    812\u001B[0m \u001B[38;5;66;03m# on the df using our wrapper (which provides bar updating)\u001B[39;00m\n\u001B[1;32m    813\u001B[0m \u001B[38;5;28;01mtry\u001B[39;00m:\n\u001B[0;32m--> 814\u001B[0m     \u001B[38;5;28;01mreturn\u001B[39;00m \u001B[38;5;28;43mgetattr\u001B[39;49m\u001B[43m(\u001B[49m\u001B[43mdf\u001B[49m\u001B[43m,\u001B[49m\u001B[43m \u001B[49m\u001B[43mdf_function\u001B[49m\u001B[43m)\u001B[49m\u001B[43m(\u001B[49m\u001B[43mwrapper\u001B[49m\u001B[43m,\u001B[49m\u001B[43m \u001B[49m\u001B[38;5;241;43m*\u001B[39;49m\u001B[38;5;241;43m*\u001B[39;49m\u001B[43mkwargs\u001B[49m\u001B[43m)\u001B[49m\n\u001B[1;32m    815\u001B[0m \u001B[38;5;28;01mfinally\u001B[39;00m:\n\u001B[1;32m    816\u001B[0m     t\u001B[38;5;241m.\u001B[39mclose()\n",
      "File \u001B[0;32m~/git/huggingface_project_template/venv/lib/python3.8/site-packages/pandas/core/series.py:4433\u001B[0m, in \u001B[0;36mSeries.apply\u001B[0;34m(self, func, convert_dtype, args, **kwargs)\u001B[0m\n\u001B[1;32m   4323\u001B[0m \u001B[38;5;28;01mdef\u001B[39;00m \u001B[38;5;21mapply\u001B[39m(\n\u001B[1;32m   4324\u001B[0m     \u001B[38;5;28mself\u001B[39m,\n\u001B[1;32m   4325\u001B[0m     func: AggFuncType,\n\u001B[0;32m   (...)\u001B[0m\n\u001B[1;32m   4328\u001B[0m     \u001B[38;5;241m*\u001B[39m\u001B[38;5;241m*\u001B[39mkwargs,\n\u001B[1;32m   4329\u001B[0m ) \u001B[38;5;241m-\u001B[39m\u001B[38;5;241m>\u001B[39m DataFrame \u001B[38;5;241m|\u001B[39m Series:\n\u001B[1;32m   4330\u001B[0m     \u001B[38;5;124;03m\"\"\"\u001B[39;00m\n\u001B[1;32m   4331\u001B[0m \u001B[38;5;124;03m    Invoke function on values of Series.\u001B[39;00m\n\u001B[1;32m   4332\u001B[0m \n\u001B[0;32m   (...)\u001B[0m\n\u001B[1;32m   4431\u001B[0m \u001B[38;5;124;03m    dtype: float64\u001B[39;00m\n\u001B[1;32m   4432\u001B[0m \u001B[38;5;124;03m    \"\"\"\u001B[39;00m\n\u001B[0;32m-> 4433\u001B[0m     \u001B[38;5;28;01mreturn\u001B[39;00m \u001B[43mSeriesApply\u001B[49m\u001B[43m(\u001B[49m\u001B[38;5;28;43mself\u001B[39;49m\u001B[43m,\u001B[49m\u001B[43m \u001B[49m\u001B[43mfunc\u001B[49m\u001B[43m,\u001B[49m\u001B[43m \u001B[49m\u001B[43mconvert_dtype\u001B[49m\u001B[43m,\u001B[49m\u001B[43m \u001B[49m\u001B[43margs\u001B[49m\u001B[43m,\u001B[49m\u001B[43m \u001B[49m\u001B[43mkwargs\u001B[49m\u001B[43m)\u001B[49m\u001B[38;5;241;43m.\u001B[39;49m\u001B[43mapply\u001B[49m\u001B[43m(\u001B[49m\u001B[43m)\u001B[49m\n",
      "File \u001B[0;32m~/git/huggingface_project_template/venv/lib/python3.8/site-packages/pandas/core/apply.py:1088\u001B[0m, in \u001B[0;36mSeriesApply.apply\u001B[0;34m(self)\u001B[0m\n\u001B[1;32m   1084\u001B[0m \u001B[38;5;28;01mif\u001B[39;00m \u001B[38;5;28misinstance\u001B[39m(\u001B[38;5;28mself\u001B[39m\u001B[38;5;241m.\u001B[39mf, \u001B[38;5;28mstr\u001B[39m):\n\u001B[1;32m   1085\u001B[0m     \u001B[38;5;66;03m# if we are a string, try to dispatch\u001B[39;00m\n\u001B[1;32m   1086\u001B[0m     \u001B[38;5;28;01mreturn\u001B[39;00m \u001B[38;5;28mself\u001B[39m\u001B[38;5;241m.\u001B[39mapply_str()\n\u001B[0;32m-> 1088\u001B[0m \u001B[38;5;28;01mreturn\u001B[39;00m \u001B[38;5;28;43mself\u001B[39;49m\u001B[38;5;241;43m.\u001B[39;49m\u001B[43mapply_standard\u001B[49m\u001B[43m(\u001B[49m\u001B[43m)\u001B[49m\n",
      "File \u001B[0;32m~/git/huggingface_project_template/venv/lib/python3.8/site-packages/pandas/core/apply.py:1143\u001B[0m, in \u001B[0;36mSeriesApply.apply_standard\u001B[0;34m(self)\u001B[0m\n\u001B[1;32m   1137\u001B[0m         values \u001B[38;5;241m=\u001B[39m obj\u001B[38;5;241m.\u001B[39mastype(\u001B[38;5;28mobject\u001B[39m)\u001B[38;5;241m.\u001B[39m_values\n\u001B[1;32m   1138\u001B[0m         \u001B[38;5;66;03m# error: Argument 2 to \"map_infer\" has incompatible type\u001B[39;00m\n\u001B[1;32m   1139\u001B[0m         \u001B[38;5;66;03m# \"Union[Callable[..., Any], str, List[Union[Callable[..., Any], str]],\u001B[39;00m\n\u001B[1;32m   1140\u001B[0m         \u001B[38;5;66;03m# Dict[Hashable, Union[Union[Callable[..., Any], str],\u001B[39;00m\n\u001B[1;32m   1141\u001B[0m         \u001B[38;5;66;03m# List[Union[Callable[..., Any], str]]]]]\"; expected\u001B[39;00m\n\u001B[1;32m   1142\u001B[0m         \u001B[38;5;66;03m# \"Callable[[Any], Any]\"\u001B[39;00m\n\u001B[0;32m-> 1143\u001B[0m         mapped \u001B[38;5;241m=\u001B[39m \u001B[43mlib\u001B[49m\u001B[38;5;241;43m.\u001B[39;49m\u001B[43mmap_infer\u001B[49m\u001B[43m(\u001B[49m\n\u001B[1;32m   1144\u001B[0m \u001B[43m            \u001B[49m\u001B[43mvalues\u001B[49m\u001B[43m,\u001B[49m\n\u001B[1;32m   1145\u001B[0m \u001B[43m            \u001B[49m\u001B[43mf\u001B[49m\u001B[43m,\u001B[49m\u001B[43m  \u001B[49m\u001B[38;5;66;43;03m# type: ignore[arg-type]\u001B[39;49;00m\n\u001B[1;32m   1146\u001B[0m \u001B[43m            \u001B[49m\u001B[43mconvert\u001B[49m\u001B[38;5;241;43m=\u001B[39;49m\u001B[38;5;28;43mself\u001B[39;49m\u001B[38;5;241;43m.\u001B[39;49m\u001B[43mconvert_dtype\u001B[49m\u001B[43m,\u001B[49m\n\u001B[1;32m   1147\u001B[0m \u001B[43m        \u001B[49m\u001B[43m)\u001B[49m\n\u001B[1;32m   1149\u001B[0m \u001B[38;5;28;01mif\u001B[39;00m \u001B[38;5;28mlen\u001B[39m(mapped) \u001B[38;5;129;01mand\u001B[39;00m \u001B[38;5;28misinstance\u001B[39m(mapped[\u001B[38;5;241m0\u001B[39m], ABCSeries):\n\u001B[1;32m   1150\u001B[0m     \u001B[38;5;66;03m# GH#43986 Need to do list(mapped) in order to get treated as nested\u001B[39;00m\n\u001B[1;32m   1151\u001B[0m     \u001B[38;5;66;03m#  See also GH#25959 regarding EA support\u001B[39;00m\n\u001B[1;32m   1152\u001B[0m     \u001B[38;5;28;01mreturn\u001B[39;00m obj\u001B[38;5;241m.\u001B[39m_constructor_expanddim(\u001B[38;5;28mlist\u001B[39m(mapped), index\u001B[38;5;241m=\u001B[39mobj\u001B[38;5;241m.\u001B[39mindex)\n",
      "File \u001B[0;32m~/git/huggingface_project_template/venv/lib/python3.8/site-packages/pandas/_libs/lib.pyx:2870\u001B[0m, in \u001B[0;36mpandas._libs.lib.map_infer\u001B[0;34m()\u001B[0m\n",
      "File \u001B[0;32m~/git/huggingface_project_template/venv/lib/python3.8/site-packages/tqdm/std.py:809\u001B[0m, in \u001B[0;36mtqdm.pandas.<locals>.inner_generator.<locals>.inner.<locals>.wrapper\u001B[0;34m(*args, **kwargs)\u001B[0m\n\u001B[1;32m    803\u001B[0m \u001B[38;5;28;01mdef\u001B[39;00m \u001B[38;5;21mwrapper\u001B[39m(\u001B[38;5;241m*\u001B[39margs, \u001B[38;5;241m*\u001B[39m\u001B[38;5;241m*\u001B[39mkwargs):\n\u001B[1;32m    804\u001B[0m     \u001B[38;5;66;03m# update tbar correctly\u001B[39;00m\n\u001B[1;32m    805\u001B[0m     \u001B[38;5;66;03m# it seems `pandas apply` calls `func` twice\u001B[39;00m\n\u001B[1;32m    806\u001B[0m     \u001B[38;5;66;03m# on the first column/row to decide whether it can\u001B[39;00m\n\u001B[1;32m    807\u001B[0m     \u001B[38;5;66;03m# take a fast or slow code path; so stop when t.total==t.n\u001B[39;00m\n\u001B[1;32m    808\u001B[0m     t\u001B[38;5;241m.\u001B[39mupdate(n\u001B[38;5;241m=\u001B[39m\u001B[38;5;241m1\u001B[39m \u001B[38;5;28;01mif\u001B[39;00m \u001B[38;5;129;01mnot\u001B[39;00m t\u001B[38;5;241m.\u001B[39mtotal \u001B[38;5;129;01mor\u001B[39;00m t\u001B[38;5;241m.\u001B[39mn \u001B[38;5;241m<\u001B[39m t\u001B[38;5;241m.\u001B[39mtotal \u001B[38;5;28;01melse\u001B[39;00m \u001B[38;5;241m0\u001B[39m)\n\u001B[0;32m--> 809\u001B[0m     \u001B[38;5;28;01mreturn\u001B[39;00m \u001B[43mfunc\u001B[49m\u001B[43m(\u001B[49m\u001B[38;5;241;43m*\u001B[39;49m\u001B[43margs\u001B[49m\u001B[43m,\u001B[49m\u001B[43m \u001B[49m\u001B[38;5;241;43m*\u001B[39;49m\u001B[38;5;241;43m*\u001B[39;49m\u001B[43mkwargs\u001B[49m\u001B[43m)\u001B[49m\n",
      "Input \u001B[0;32mIn [24]\u001B[0m, in \u001B[0;36m<lambda>\u001B[0;34m(x)\u001B[0m\n\u001B[0;32m----> 1\u001B[0m df_ar[\u001B[38;5;124m'\u001B[39m\u001B[38;5;124mtranslated_value\u001B[39m\u001B[38;5;124m'\u001B[39m] \u001B[38;5;241m=\u001B[39m df_ar[\u001B[38;5;124m'\u001B[39m\u001B[38;5;124mtext\u001B[39m\u001B[38;5;124m'\u001B[39m]\u001B[38;5;241m.\u001B[39mprogress_apply(\u001B[38;5;28;01mlambda\u001B[39;00m x: \u001B[43mtranslator\u001B[49m\u001B[38;5;241;43m.\u001B[39;49m\u001B[43mtranslate\u001B[49m\u001B[43m(\u001B[49m\u001B[43mx\u001B[49m\u001B[43m,\u001B[49m\u001B[43m \u001B[49m\u001B[43mdest\u001B[49m\u001B[38;5;241;43m=\u001B[39;49m\u001B[38;5;124;43m'\u001B[39;49m\u001B[38;5;124;43men\u001B[39;49m\u001B[38;5;124;43m'\u001B[39;49m\u001B[43m)\u001B[49m\u001B[38;5;241m.\u001B[39mtext)\n",
      "File \u001B[0;32m~/git/huggingface_project_template/venv/lib/python3.8/site-packages/googletrans/client.py:210\u001B[0m, in \u001B[0;36mTranslator.translate\u001B[0;34m(self, text, dest, src, **kwargs)\u001B[0m\n\u001B[1;32m    207\u001B[0m     \u001B[38;5;28;01mreturn\u001B[39;00m result\n\u001B[1;32m    209\u001B[0m origin \u001B[38;5;241m=\u001B[39m text\n\u001B[0;32m--> 210\u001B[0m data, response \u001B[38;5;241m=\u001B[39m \u001B[38;5;28;43mself\u001B[39;49m\u001B[38;5;241;43m.\u001B[39;49m\u001B[43m_translate\u001B[49m\u001B[43m(\u001B[49m\u001B[43mtext\u001B[49m\u001B[43m,\u001B[49m\u001B[43m \u001B[49m\u001B[43mdest\u001B[49m\u001B[43m,\u001B[49m\u001B[43m \u001B[49m\u001B[43msrc\u001B[49m\u001B[43m,\u001B[49m\u001B[43m \u001B[49m\u001B[43mkwargs\u001B[49m\u001B[43m)\u001B[49m\n\u001B[1;32m    212\u001B[0m \u001B[38;5;66;03m# this code will be updated when the format is changed.\u001B[39;00m\n\u001B[1;32m    213\u001B[0m translated \u001B[38;5;241m=\u001B[39m \u001B[38;5;124m'\u001B[39m\u001B[38;5;124m'\u001B[39m\u001B[38;5;241m.\u001B[39mjoin([d[\u001B[38;5;241m0\u001B[39m] \u001B[38;5;28;01mif\u001B[39;00m d[\u001B[38;5;241m0\u001B[39m] \u001B[38;5;28;01melse\u001B[39;00m \u001B[38;5;124m'\u001B[39m\u001B[38;5;124m'\u001B[39m \u001B[38;5;28;01mfor\u001B[39;00m d \u001B[38;5;129;01min\u001B[39;00m data[\u001B[38;5;241m0\u001B[39m]])\n",
      "File \u001B[0;32m~/git/huggingface_project_template/venv/lib/python3.8/site-packages/googletrans/client.py:108\u001B[0m, in \u001B[0;36mTranslator._translate\u001B[0;34m(self, text, dest, src, override)\u001B[0m\n\u001B[1;32m    104\u001B[0m params \u001B[38;5;241m=\u001B[39m utils\u001B[38;5;241m.\u001B[39mbuild_params(client\u001B[38;5;241m=\u001B[39m\u001B[38;5;28mself\u001B[39m\u001B[38;5;241m.\u001B[39mclient_type, query\u001B[38;5;241m=\u001B[39mtext, src\u001B[38;5;241m=\u001B[39msrc, dest\u001B[38;5;241m=\u001B[39mdest,\n\u001B[1;32m    105\u001B[0m                             token\u001B[38;5;241m=\u001B[39mtoken, override\u001B[38;5;241m=\u001B[39moverride)\n\u001B[1;32m    107\u001B[0m url \u001B[38;5;241m=\u001B[39m urls\u001B[38;5;241m.\u001B[39mTRANSLATE\u001B[38;5;241m.\u001B[39mformat(host\u001B[38;5;241m=\u001B[39m\u001B[38;5;28mself\u001B[39m\u001B[38;5;241m.\u001B[39m_pick_service_url())\n\u001B[0;32m--> 108\u001B[0m r \u001B[38;5;241m=\u001B[39m \u001B[38;5;28;43mself\u001B[39;49m\u001B[38;5;241;43m.\u001B[39;49m\u001B[43mclient\u001B[49m\u001B[38;5;241;43m.\u001B[39;49m\u001B[43mget\u001B[49m\u001B[43m(\u001B[49m\u001B[43murl\u001B[49m\u001B[43m,\u001B[49m\u001B[43m \u001B[49m\u001B[43mparams\u001B[49m\u001B[38;5;241;43m=\u001B[39;49m\u001B[43mparams\u001B[49m\u001B[43m)\u001B[49m\n\u001B[1;32m    110\u001B[0m \u001B[38;5;28;01mif\u001B[39;00m r\u001B[38;5;241m.\u001B[39mstatus_code \u001B[38;5;241m==\u001B[39m \u001B[38;5;241m200\u001B[39m:\n\u001B[1;32m    111\u001B[0m     data \u001B[38;5;241m=\u001B[39m utils\u001B[38;5;241m.\u001B[39mformat_json(r\u001B[38;5;241m.\u001B[39mtext)\n",
      "File \u001B[0;32m~/git/huggingface_project_template/venv/lib/python3.8/site-packages/httpx/_client.py:755\u001B[0m, in \u001B[0;36mClient.get\u001B[0;34m(self, url, params, headers, cookies, auth, allow_redirects, timeout)\u001B[0m\n\u001B[1;32m    744\u001B[0m \u001B[38;5;28;01mdef\u001B[39;00m \u001B[38;5;21mget\u001B[39m(\n\u001B[1;32m    745\u001B[0m     \u001B[38;5;28mself\u001B[39m,\n\u001B[1;32m    746\u001B[0m     url: URLTypes,\n\u001B[0;32m   (...)\u001B[0m\n\u001B[1;32m    753\u001B[0m     timeout: typing\u001B[38;5;241m.\u001B[39mUnion[TimeoutTypes, UnsetType] \u001B[38;5;241m=\u001B[39m UNSET,\n\u001B[1;32m    754\u001B[0m ) \u001B[38;5;241m-\u001B[39m\u001B[38;5;241m>\u001B[39m Response:\n\u001B[0;32m--> 755\u001B[0m     \u001B[38;5;28;01mreturn\u001B[39;00m \u001B[38;5;28;43mself\u001B[39;49m\u001B[38;5;241;43m.\u001B[39;49m\u001B[43mrequest\u001B[49m\u001B[43m(\u001B[49m\n\u001B[1;32m    756\u001B[0m \u001B[43m        \u001B[49m\u001B[38;5;124;43m\"\u001B[39;49m\u001B[38;5;124;43mGET\u001B[39;49m\u001B[38;5;124;43m\"\u001B[39;49m\u001B[43m,\u001B[49m\n\u001B[1;32m    757\u001B[0m \u001B[43m        \u001B[49m\u001B[43murl\u001B[49m\u001B[43m,\u001B[49m\n\u001B[1;32m    758\u001B[0m \u001B[43m        \u001B[49m\u001B[43mparams\u001B[49m\u001B[38;5;241;43m=\u001B[39;49m\u001B[43mparams\u001B[49m\u001B[43m,\u001B[49m\n\u001B[1;32m    759\u001B[0m \u001B[43m        \u001B[49m\u001B[43mheaders\u001B[49m\u001B[38;5;241;43m=\u001B[39;49m\u001B[43mheaders\u001B[49m\u001B[43m,\u001B[49m\n\u001B[1;32m    760\u001B[0m \u001B[43m        \u001B[49m\u001B[43mcookies\u001B[49m\u001B[38;5;241;43m=\u001B[39;49m\u001B[43mcookies\u001B[49m\u001B[43m,\u001B[49m\n\u001B[1;32m    761\u001B[0m \u001B[43m        \u001B[49m\u001B[43mauth\u001B[49m\u001B[38;5;241;43m=\u001B[39;49m\u001B[43mauth\u001B[49m\u001B[43m,\u001B[49m\n\u001B[1;32m    762\u001B[0m \u001B[43m        \u001B[49m\u001B[43mallow_redirects\u001B[49m\u001B[38;5;241;43m=\u001B[39;49m\u001B[43mallow_redirects\u001B[49m\u001B[43m,\u001B[49m\n\u001B[1;32m    763\u001B[0m \u001B[43m        \u001B[49m\u001B[43mtimeout\u001B[49m\u001B[38;5;241;43m=\u001B[39;49m\u001B[43mtimeout\u001B[49m\u001B[43m,\u001B[49m\n\u001B[1;32m    764\u001B[0m \u001B[43m    \u001B[49m\u001B[43m)\u001B[49m\n",
      "File \u001B[0;32m~/git/huggingface_project_template/venv/lib/python3.8/site-packages/httpx/_client.py:600\u001B[0m, in \u001B[0;36mClient.request\u001B[0;34m(self, method, url, data, files, json, params, headers, cookies, auth, allow_redirects, timeout)\u001B[0m\n\u001B[1;32m    575\u001B[0m \u001B[38;5;28;01mdef\u001B[39;00m \u001B[38;5;21mrequest\u001B[39m(\n\u001B[1;32m    576\u001B[0m     \u001B[38;5;28mself\u001B[39m,\n\u001B[1;32m    577\u001B[0m     method: \u001B[38;5;28mstr\u001B[39m,\n\u001B[0;32m   (...)\u001B[0m\n\u001B[1;32m    588\u001B[0m     timeout: typing\u001B[38;5;241m.\u001B[39mUnion[TimeoutTypes, UnsetType] \u001B[38;5;241m=\u001B[39m UNSET,\n\u001B[1;32m    589\u001B[0m ) \u001B[38;5;241m-\u001B[39m\u001B[38;5;241m>\u001B[39m Response:\n\u001B[1;32m    590\u001B[0m     request \u001B[38;5;241m=\u001B[39m \u001B[38;5;28mself\u001B[39m\u001B[38;5;241m.\u001B[39mbuild_request(\n\u001B[1;32m    591\u001B[0m         method\u001B[38;5;241m=\u001B[39mmethod,\n\u001B[1;32m    592\u001B[0m         url\u001B[38;5;241m=\u001B[39murl,\n\u001B[0;32m   (...)\u001B[0m\n\u001B[1;32m    598\u001B[0m         cookies\u001B[38;5;241m=\u001B[39mcookies,\n\u001B[1;32m    599\u001B[0m     )\n\u001B[0;32m--> 600\u001B[0m     \u001B[38;5;28;01mreturn\u001B[39;00m \u001B[38;5;28;43mself\u001B[39;49m\u001B[38;5;241;43m.\u001B[39;49m\u001B[43msend\u001B[49m\u001B[43m(\u001B[49m\n\u001B[1;32m    601\u001B[0m \u001B[43m        \u001B[49m\u001B[43mrequest\u001B[49m\u001B[43m,\u001B[49m\u001B[43m \u001B[49m\u001B[43mauth\u001B[49m\u001B[38;5;241;43m=\u001B[39;49m\u001B[43mauth\u001B[49m\u001B[43m,\u001B[49m\u001B[43m \u001B[49m\u001B[43mallow_redirects\u001B[49m\u001B[38;5;241;43m=\u001B[39;49m\u001B[43mallow_redirects\u001B[49m\u001B[43m,\u001B[49m\u001B[43m \u001B[49m\u001B[43mtimeout\u001B[49m\u001B[38;5;241;43m=\u001B[39;49m\u001B[43mtimeout\u001B[49m\u001B[43m,\u001B[49m\n\u001B[1;32m    602\u001B[0m \u001B[43m    \u001B[49m\u001B[43m)\u001B[49m\n",
      "File \u001B[0;32m~/git/huggingface_project_template/venv/lib/python3.8/site-packages/httpx/_client.py:620\u001B[0m, in \u001B[0;36mClient.send\u001B[0;34m(self, request, stream, auth, allow_redirects, timeout)\u001B[0m\n\u001B[1;32m    616\u001B[0m timeout \u001B[38;5;241m=\u001B[39m \u001B[38;5;28mself\u001B[39m\u001B[38;5;241m.\u001B[39mtimeout \u001B[38;5;28;01mif\u001B[39;00m \u001B[38;5;28misinstance\u001B[39m(timeout, UnsetType) \u001B[38;5;28;01melse\u001B[39;00m Timeout(timeout)\n\u001B[1;32m    618\u001B[0m auth \u001B[38;5;241m=\u001B[39m \u001B[38;5;28mself\u001B[39m\u001B[38;5;241m.\u001B[39mbuild_auth(request, auth)\n\u001B[0;32m--> 620\u001B[0m response \u001B[38;5;241m=\u001B[39m \u001B[38;5;28;43mself\u001B[39;49m\u001B[38;5;241;43m.\u001B[39;49m\u001B[43msend_handling_redirects\u001B[49m\u001B[43m(\u001B[49m\n\u001B[1;32m    621\u001B[0m \u001B[43m    \u001B[49m\u001B[43mrequest\u001B[49m\u001B[43m,\u001B[49m\u001B[43m \u001B[49m\u001B[43mauth\u001B[49m\u001B[38;5;241;43m=\u001B[39;49m\u001B[43mauth\u001B[49m\u001B[43m,\u001B[49m\u001B[43m \u001B[49m\u001B[43mtimeout\u001B[49m\u001B[38;5;241;43m=\u001B[39;49m\u001B[43mtimeout\u001B[49m\u001B[43m,\u001B[49m\u001B[43m \u001B[49m\u001B[43mallow_redirects\u001B[49m\u001B[38;5;241;43m=\u001B[39;49m\u001B[43mallow_redirects\u001B[49m\u001B[43m,\u001B[49m\n\u001B[1;32m    622\u001B[0m \u001B[43m\u001B[49m\u001B[43m)\u001B[49m\n\u001B[1;32m    624\u001B[0m \u001B[38;5;28;01mif\u001B[39;00m \u001B[38;5;129;01mnot\u001B[39;00m stream:\n\u001B[1;32m    625\u001B[0m     \u001B[38;5;28;01mtry\u001B[39;00m:\n",
      "File \u001B[0;32m~/git/huggingface_project_template/venv/lib/python3.8/site-packages/httpx/_client.py:647\u001B[0m, in \u001B[0;36mClient.send_handling_redirects\u001B[0;34m(self, request, auth, timeout, allow_redirects, history)\u001B[0m\n\u001B[1;32m    644\u001B[0m \u001B[38;5;28;01mif\u001B[39;00m \u001B[38;5;28mlen\u001B[39m(history) \u001B[38;5;241m>\u001B[39m \u001B[38;5;28mself\u001B[39m\u001B[38;5;241m.\u001B[39mmax_redirects:\n\u001B[1;32m    645\u001B[0m     \u001B[38;5;28;01mraise\u001B[39;00m TooManyRedirects()\n\u001B[0;32m--> 647\u001B[0m response \u001B[38;5;241m=\u001B[39m \u001B[38;5;28;43mself\u001B[39;49m\u001B[38;5;241;43m.\u001B[39;49m\u001B[43msend_handling_auth\u001B[49m\u001B[43m(\u001B[49m\n\u001B[1;32m    648\u001B[0m \u001B[43m    \u001B[49m\u001B[43mrequest\u001B[49m\u001B[43m,\u001B[49m\u001B[43m \u001B[49m\u001B[43mauth\u001B[49m\u001B[38;5;241;43m=\u001B[39;49m\u001B[43mauth\u001B[49m\u001B[43m,\u001B[49m\u001B[43m \u001B[49m\u001B[43mtimeout\u001B[49m\u001B[38;5;241;43m=\u001B[39;49m\u001B[43mtimeout\u001B[49m\u001B[43m,\u001B[49m\u001B[43m \u001B[49m\u001B[43mhistory\u001B[49m\u001B[38;5;241;43m=\u001B[39;49m\u001B[43mhistory\u001B[49m\n\u001B[1;32m    649\u001B[0m \u001B[43m\u001B[49m\u001B[43m)\u001B[49m\n\u001B[1;32m    650\u001B[0m response\u001B[38;5;241m.\u001B[39mhistory \u001B[38;5;241m=\u001B[39m \u001B[38;5;28mlist\u001B[39m(history)\n\u001B[1;32m    652\u001B[0m \u001B[38;5;28;01mif\u001B[39;00m \u001B[38;5;129;01mnot\u001B[39;00m response\u001B[38;5;241m.\u001B[39mis_redirect:\n",
      "File \u001B[0;32m~/git/huggingface_project_template/venv/lib/python3.8/site-packages/httpx/_client.py:684\u001B[0m, in \u001B[0;36mClient.send_handling_auth\u001B[0;34m(self, request, history, auth, timeout)\u001B[0m\n\u001B[1;32m    682\u001B[0m request \u001B[38;5;241m=\u001B[39m \u001B[38;5;28mnext\u001B[39m(auth_flow)\n\u001B[1;32m    683\u001B[0m \u001B[38;5;28;01mwhile\u001B[39;00m \u001B[38;5;28;01mTrue\u001B[39;00m:\n\u001B[0;32m--> 684\u001B[0m     response \u001B[38;5;241m=\u001B[39m \u001B[38;5;28;43mself\u001B[39;49m\u001B[38;5;241;43m.\u001B[39;49m\u001B[43msend_single_request\u001B[49m\u001B[43m(\u001B[49m\u001B[43mrequest\u001B[49m\u001B[43m,\u001B[49m\u001B[43m \u001B[49m\u001B[43mtimeout\u001B[49m\u001B[43m)\u001B[49m\n\u001B[1;32m    685\u001B[0m     \u001B[38;5;28;01mif\u001B[39;00m auth\u001B[38;5;241m.\u001B[39mrequires_response_body:\n\u001B[1;32m    686\u001B[0m         response\u001B[38;5;241m.\u001B[39mread()\n",
      "File \u001B[0;32m~/git/huggingface_project_template/venv/lib/python3.8/site-packages/httpx/_client.py:714\u001B[0m, in \u001B[0;36mClient.send_single_request\u001B[0;34m(self, request, timeout)\u001B[0m\n\u001B[1;32m    705\u001B[0m transport \u001B[38;5;241m=\u001B[39m \u001B[38;5;28mself\u001B[39m\u001B[38;5;241m.\u001B[39mtransport_for_url(request\u001B[38;5;241m.\u001B[39murl)\n\u001B[1;32m    707\u001B[0m \u001B[38;5;28;01mtry\u001B[39;00m:\n\u001B[1;32m    708\u001B[0m     (\n\u001B[1;32m    709\u001B[0m         http_version,\n\u001B[1;32m    710\u001B[0m         status_code,\n\u001B[1;32m    711\u001B[0m         reason_phrase,\n\u001B[1;32m    712\u001B[0m         headers,\n\u001B[1;32m    713\u001B[0m         stream,\n\u001B[0;32m--> 714\u001B[0m     ) \u001B[38;5;241m=\u001B[39m \u001B[43mtransport\u001B[49m\u001B[38;5;241;43m.\u001B[39;49m\u001B[43mrequest\u001B[49m\u001B[43m(\u001B[49m\n\u001B[1;32m    715\u001B[0m \u001B[43m        \u001B[49m\u001B[43mrequest\u001B[49m\u001B[38;5;241;43m.\u001B[39;49m\u001B[43mmethod\u001B[49m\u001B[38;5;241;43m.\u001B[39;49m\u001B[43mencode\u001B[49m\u001B[43m(\u001B[49m\u001B[43m)\u001B[49m\u001B[43m,\u001B[49m\n\u001B[1;32m    716\u001B[0m \u001B[43m        \u001B[49m\u001B[43mrequest\u001B[49m\u001B[38;5;241;43m.\u001B[39;49m\u001B[43murl\u001B[49m\u001B[38;5;241;43m.\u001B[39;49m\u001B[43mraw\u001B[49m\u001B[43m,\u001B[49m\n\u001B[1;32m    717\u001B[0m \u001B[43m        \u001B[49m\u001B[43mheaders\u001B[49m\u001B[38;5;241;43m=\u001B[39;49m\u001B[43mrequest\u001B[49m\u001B[38;5;241;43m.\u001B[39;49m\u001B[43mheaders\u001B[49m\u001B[38;5;241;43m.\u001B[39;49m\u001B[43mraw\u001B[49m\u001B[43m,\u001B[49m\n\u001B[1;32m    718\u001B[0m \u001B[43m        \u001B[49m\u001B[43mstream\u001B[49m\u001B[38;5;241;43m=\u001B[39;49m\u001B[43mrequest\u001B[49m\u001B[38;5;241;43m.\u001B[39;49m\u001B[43mstream\u001B[49m\u001B[43m,\u001B[49m\n\u001B[1;32m    719\u001B[0m \u001B[43m        \u001B[49m\u001B[43mtimeout\u001B[49m\u001B[38;5;241;43m=\u001B[39;49m\u001B[43mtimeout\u001B[49m\u001B[38;5;241;43m.\u001B[39;49m\u001B[43mas_dict\u001B[49m\u001B[43m(\u001B[49m\u001B[43m)\u001B[49m\u001B[43m,\u001B[49m\n\u001B[1;32m    720\u001B[0m \u001B[43m    \u001B[49m\u001B[43m)\u001B[49m\n\u001B[1;32m    721\u001B[0m \u001B[38;5;28;01mexcept\u001B[39;00m HTTPError \u001B[38;5;28;01mas\u001B[39;00m exc:\n\u001B[1;32m    722\u001B[0m     \u001B[38;5;66;03m# Add the original request to any HTTPError unless\u001B[39;00m\n\u001B[1;32m    723\u001B[0m     \u001B[38;5;66;03m# there'a already a request attached in the case of\u001B[39;00m\n\u001B[1;32m    724\u001B[0m     \u001B[38;5;66;03m# a ProxyError.\u001B[39;00m\n\u001B[1;32m    725\u001B[0m     \u001B[38;5;28;01mif\u001B[39;00m exc\u001B[38;5;241m.\u001B[39m_request \u001B[38;5;129;01mis\u001B[39;00m \u001B[38;5;28;01mNone\u001B[39;00m:\n",
      "File \u001B[0;32m~/git/huggingface_project_template/venv/lib/python3.8/site-packages/httpcore/_sync/connection_pool.py:152\u001B[0m, in \u001B[0;36mSyncConnectionPool.request\u001B[0;34m(self, method, url, headers, stream, timeout)\u001B[0m\n\u001B[1;32m    149\u001B[0m         logger\u001B[38;5;241m.\u001B[39mtrace(\u001B[38;5;124m\"\u001B[39m\u001B[38;5;124mreuse connection=\u001B[39m\u001B[38;5;132;01m%r\u001B[39;00m\u001B[38;5;124m\"\u001B[39m, connection)\n\u001B[1;32m    151\u001B[0m \u001B[38;5;28;01mtry\u001B[39;00m:\n\u001B[0;32m--> 152\u001B[0m     response \u001B[38;5;241m=\u001B[39m \u001B[43mconnection\u001B[49m\u001B[38;5;241;43m.\u001B[39;49m\u001B[43mrequest\u001B[49m\u001B[43m(\u001B[49m\n\u001B[1;32m    153\u001B[0m \u001B[43m        \u001B[49m\u001B[43mmethod\u001B[49m\u001B[43m,\u001B[49m\u001B[43m \u001B[49m\u001B[43murl\u001B[49m\u001B[43m,\u001B[49m\u001B[43m \u001B[49m\u001B[43mheaders\u001B[49m\u001B[38;5;241;43m=\u001B[39;49m\u001B[43mheaders\u001B[49m\u001B[43m,\u001B[49m\u001B[43m \u001B[49m\u001B[43mstream\u001B[49m\u001B[38;5;241;43m=\u001B[39;49m\u001B[43mstream\u001B[49m\u001B[43m,\u001B[49m\u001B[43m \u001B[49m\u001B[43mtimeout\u001B[49m\u001B[38;5;241;43m=\u001B[39;49m\u001B[43mtimeout\u001B[49m\n\u001B[1;32m    154\u001B[0m \u001B[43m    \u001B[49m\u001B[43m)\u001B[49m\n\u001B[1;32m    155\u001B[0m \u001B[38;5;28;01mexcept\u001B[39;00m NewConnectionRequired:\n\u001B[1;32m    156\u001B[0m     connection \u001B[38;5;241m=\u001B[39m \u001B[38;5;28;01mNone\u001B[39;00m\n",
      "File \u001B[0;32m~/git/huggingface_project_template/venv/lib/python3.8/site-packages/httpcore/_sync/connection.py:78\u001B[0m, in \u001B[0;36mSyncHTTPConnection.request\u001B[0;34m(self, method, url, headers, stream, timeout)\u001B[0m\n\u001B[1;32m     74\u001B[0m \u001B[38;5;28;01massert\u001B[39;00m \u001B[38;5;28mself\u001B[39m\u001B[38;5;241m.\u001B[39mconnection \u001B[38;5;129;01mis\u001B[39;00m \u001B[38;5;129;01mnot\u001B[39;00m \u001B[38;5;28;01mNone\u001B[39;00m\n\u001B[1;32m     75\u001B[0m logger\u001B[38;5;241m.\u001B[39mtrace(\n\u001B[1;32m     76\u001B[0m     \u001B[38;5;124m\"\u001B[39m\u001B[38;5;124mconnection.request method=\u001B[39m\u001B[38;5;132;01m%r\u001B[39;00m\u001B[38;5;124m url=\u001B[39m\u001B[38;5;132;01m%r\u001B[39;00m\u001B[38;5;124m headers=\u001B[39m\u001B[38;5;132;01m%r\u001B[39;00m\u001B[38;5;124m\"\u001B[39m, method, url, headers\n\u001B[1;32m     77\u001B[0m )\n\u001B[0;32m---> 78\u001B[0m \u001B[38;5;28;01mreturn\u001B[39;00m \u001B[38;5;28;43mself\u001B[39;49m\u001B[38;5;241;43m.\u001B[39;49m\u001B[43mconnection\u001B[49m\u001B[38;5;241;43m.\u001B[39;49m\u001B[43mrequest\u001B[49m\u001B[43m(\u001B[49m\u001B[43mmethod\u001B[49m\u001B[43m,\u001B[49m\u001B[43m \u001B[49m\u001B[43murl\u001B[49m\u001B[43m,\u001B[49m\u001B[43m \u001B[49m\u001B[43mheaders\u001B[49m\u001B[43m,\u001B[49m\u001B[43m \u001B[49m\u001B[43mstream\u001B[49m\u001B[43m,\u001B[49m\u001B[43m \u001B[49m\u001B[43mtimeout\u001B[49m\u001B[43m)\u001B[49m\n",
      "File \u001B[0;32m~/git/huggingface_project_template/venv/lib/python3.8/site-packages/httpcore/_sync/http2.py:118\u001B[0m, in \u001B[0;36mSyncHTTP2Connection.request\u001B[0;34m(self, method, url, headers, stream, timeout)\u001B[0m\n\u001B[1;32m    116\u001B[0m     \u001B[38;5;28mself\u001B[39m\u001B[38;5;241m.\u001B[39mstreams[stream_id] \u001B[38;5;241m=\u001B[39m h2_stream\n\u001B[1;32m    117\u001B[0m     \u001B[38;5;28mself\u001B[39m\u001B[38;5;241m.\u001B[39mevents[stream_id] \u001B[38;5;241m=\u001B[39m []\n\u001B[0;32m--> 118\u001B[0m     \u001B[38;5;28;01mreturn\u001B[39;00m \u001B[43mh2_stream\u001B[49m\u001B[38;5;241;43m.\u001B[39;49m\u001B[43mrequest\u001B[49m\u001B[43m(\u001B[49m\u001B[43mmethod\u001B[49m\u001B[43m,\u001B[49m\u001B[43m \u001B[49m\u001B[43murl\u001B[49m\u001B[43m,\u001B[49m\u001B[43m \u001B[49m\u001B[43mheaders\u001B[49m\u001B[43m,\u001B[49m\u001B[43m \u001B[49m\u001B[43mstream\u001B[49m\u001B[43m,\u001B[49m\u001B[43m \u001B[49m\u001B[43mtimeout\u001B[49m\u001B[43m)\u001B[49m\n\u001B[1;32m    119\u001B[0m \u001B[38;5;28;01mexcept\u001B[39;00m \u001B[38;5;167;01mException\u001B[39;00m:\n\u001B[1;32m    120\u001B[0m     \u001B[38;5;28mself\u001B[39m\u001B[38;5;241m.\u001B[39mmax_streams_semaphore\u001B[38;5;241m.\u001B[39mrelease()\n",
      "File \u001B[0;32m~/git/huggingface_project_template/venv/lib/python3.8/site-packages/httpcore/_sync/http2.py:292\u001B[0m, in \u001B[0;36mSyncHTTP2Stream.request\u001B[0;34m(self, method, url, headers, stream, timeout)\u001B[0m\n\u001B[1;32m    289\u001B[0m     \u001B[38;5;28mself\u001B[39m\u001B[38;5;241m.\u001B[39msend_body(stream, timeout)\n\u001B[1;32m    291\u001B[0m \u001B[38;5;66;03m# Receive the response.\u001B[39;00m\n\u001B[0;32m--> 292\u001B[0m status_code, headers \u001B[38;5;241m=\u001B[39m \u001B[38;5;28;43mself\u001B[39;49m\u001B[38;5;241;43m.\u001B[39;49m\u001B[43mreceive_response\u001B[49m\u001B[43m(\u001B[49m\u001B[43mtimeout\u001B[49m\u001B[43m)\u001B[49m\n\u001B[1;32m    293\u001B[0m reason_phrase \u001B[38;5;241m=\u001B[39m get_reason_phrase(status_code)\n\u001B[1;32m    294\u001B[0m stream \u001B[38;5;241m=\u001B[39m SyncByteStream(\n\u001B[1;32m    295\u001B[0m     iterator\u001B[38;5;241m=\u001B[39m\u001B[38;5;28mself\u001B[39m\u001B[38;5;241m.\u001B[39mbody_iter(timeout), close_func\u001B[38;5;241m=\u001B[39m\u001B[38;5;28mself\u001B[39m\u001B[38;5;241m.\u001B[39m_response_closed\n\u001B[1;32m    296\u001B[0m )\n",
      "File \u001B[0;32m~/git/huggingface_project_template/venv/lib/python3.8/site-packages/httpcore/_sync/http2.py:344\u001B[0m, in \u001B[0;36mSyncHTTP2Stream.receive_response\u001B[0;34m(self, timeout)\u001B[0m\n\u001B[1;32m    340\u001B[0m \u001B[38;5;124;03m\"\"\"\u001B[39;00m\n\u001B[1;32m    341\u001B[0m \u001B[38;5;124;03mRead the response status and headers from the network.\u001B[39;00m\n\u001B[1;32m    342\u001B[0m \u001B[38;5;124;03m\"\"\"\u001B[39;00m\n\u001B[1;32m    343\u001B[0m \u001B[38;5;28;01mwhile\u001B[39;00m \u001B[38;5;28;01mTrue\u001B[39;00m:\n\u001B[0;32m--> 344\u001B[0m     event \u001B[38;5;241m=\u001B[39m \u001B[38;5;28;43mself\u001B[39;49m\u001B[38;5;241;43m.\u001B[39;49m\u001B[43mconnection\u001B[49m\u001B[38;5;241;43m.\u001B[39;49m\u001B[43mwait_for_event\u001B[49m\u001B[43m(\u001B[49m\u001B[38;5;28;43mself\u001B[39;49m\u001B[38;5;241;43m.\u001B[39;49m\u001B[43mstream_id\u001B[49m\u001B[43m,\u001B[49m\u001B[43m \u001B[49m\u001B[43mtimeout\u001B[49m\u001B[43m)\u001B[49m\n\u001B[1;32m    345\u001B[0m     \u001B[38;5;28;01mif\u001B[39;00m \u001B[38;5;28misinstance\u001B[39m(event, h2\u001B[38;5;241m.\u001B[39mevents\u001B[38;5;241m.\u001B[39mResponseReceived):\n\u001B[1;32m    346\u001B[0m         \u001B[38;5;28;01mbreak\u001B[39;00m\n",
      "File \u001B[0;32m~/git/huggingface_project_template/venv/lib/python3.8/site-packages/httpcore/_sync/http2.py:197\u001B[0m, in \u001B[0;36mSyncHTTP2Connection.wait_for_event\u001B[0;34m(self, stream_id, timeout)\u001B[0m\n\u001B[1;32m    195\u001B[0m \u001B[38;5;28;01mwith\u001B[39;00m \u001B[38;5;28mself\u001B[39m\u001B[38;5;241m.\u001B[39mread_lock:\n\u001B[1;32m    196\u001B[0m     \u001B[38;5;28;01mwhile\u001B[39;00m \u001B[38;5;129;01mnot\u001B[39;00m \u001B[38;5;28mself\u001B[39m\u001B[38;5;241m.\u001B[39mevents[stream_id]:\n\u001B[0;32m--> 197\u001B[0m         \u001B[38;5;28;43mself\u001B[39;49m\u001B[38;5;241;43m.\u001B[39;49m\u001B[43mreceive_events\u001B[49m\u001B[43m(\u001B[49m\u001B[43mtimeout\u001B[49m\u001B[43m)\u001B[49m\n\u001B[1;32m    198\u001B[0m \u001B[38;5;28;01mreturn\u001B[39;00m \u001B[38;5;28mself\u001B[39m\u001B[38;5;241m.\u001B[39mevents[stream_id]\u001B[38;5;241m.\u001B[39mpop(\u001B[38;5;241m0\u001B[39m)\n",
      "File \u001B[0;32m~/git/huggingface_project_template/venv/lib/python3.8/site-packages/httpcore/_sync/http2.py:204\u001B[0m, in \u001B[0;36mSyncHTTP2Connection.receive_events\u001B[0;34m(self, timeout)\u001B[0m\n\u001B[1;32m    200\u001B[0m \u001B[38;5;28;01mdef\u001B[39;00m \u001B[38;5;21mreceive_events\u001B[39m(\u001B[38;5;28mself\u001B[39m, timeout: TimeoutDict) \u001B[38;5;241m-\u001B[39m\u001B[38;5;241m>\u001B[39m \u001B[38;5;28;01mNone\u001B[39;00m:\n\u001B[1;32m    201\u001B[0m     \u001B[38;5;124;03m\"\"\"\u001B[39;00m\n\u001B[1;32m    202\u001B[0m \u001B[38;5;124;03m    Read some data from the network, and update the H2 state.\u001B[39;00m\n\u001B[1;32m    203\u001B[0m \u001B[38;5;124;03m    \"\"\"\u001B[39;00m\n\u001B[0;32m--> 204\u001B[0m     data \u001B[38;5;241m=\u001B[39m \u001B[38;5;28;43mself\u001B[39;49m\u001B[38;5;241;43m.\u001B[39;49m\u001B[43msocket\u001B[49m\u001B[38;5;241;43m.\u001B[39;49m\u001B[43mread\u001B[49m\u001B[43m(\u001B[49m\u001B[38;5;28;43mself\u001B[39;49m\u001B[38;5;241;43m.\u001B[39;49m\u001B[43mREAD_NUM_BYTES\u001B[49m\u001B[43m,\u001B[49m\u001B[43m \u001B[49m\u001B[43mtimeout\u001B[49m\u001B[43m)\u001B[49m\n\u001B[1;32m    205\u001B[0m     events \u001B[38;5;241m=\u001B[39m \u001B[38;5;28mself\u001B[39m\u001B[38;5;241m.\u001B[39mh2_state\u001B[38;5;241m.\u001B[39mreceive_data(data)\n\u001B[1;32m    206\u001B[0m     \u001B[38;5;28;01mfor\u001B[39;00m event \u001B[38;5;129;01min\u001B[39;00m events:\n",
      "File \u001B[0;32m~/git/huggingface_project_template/venv/lib/python3.8/site-packages/httpcore/_backends/sync.py:62\u001B[0m, in \u001B[0;36mSyncSocketStream.read\u001B[0;34m(self, n, timeout)\u001B[0m\n\u001B[1;32m     60\u001B[0m \u001B[38;5;28;01mwith\u001B[39;00m map_exceptions(exc_map):\n\u001B[1;32m     61\u001B[0m     \u001B[38;5;28mself\u001B[39m\u001B[38;5;241m.\u001B[39msock\u001B[38;5;241m.\u001B[39msettimeout(read_timeout)\n\u001B[0;32m---> 62\u001B[0m     \u001B[38;5;28;01mreturn\u001B[39;00m \u001B[38;5;28mself\u001B[39m\u001B[38;5;241m.\u001B[39msock\u001B[38;5;241m.\u001B[39mrecv(n)\n",
      "File \u001B[0;32m/usr/lib/python3.8/contextlib.py:131\u001B[0m, in \u001B[0;36m_GeneratorContextManager.__exit__\u001B[0;34m(self, type, value, traceback)\u001B[0m\n\u001B[1;32m    129\u001B[0m     value \u001B[38;5;241m=\u001B[39m \u001B[38;5;28mtype\u001B[39m()\n\u001B[1;32m    130\u001B[0m \u001B[38;5;28;01mtry\u001B[39;00m:\n\u001B[0;32m--> 131\u001B[0m     \u001B[38;5;28;43mself\u001B[39;49m\u001B[38;5;241;43m.\u001B[39;49m\u001B[43mgen\u001B[49m\u001B[38;5;241;43m.\u001B[39;49m\u001B[43mthrow\u001B[49m\u001B[43m(\u001B[49m\u001B[38;5;28;43mtype\u001B[39;49m\u001B[43m,\u001B[49m\u001B[43m \u001B[49m\u001B[43mvalue\u001B[49m\u001B[43m,\u001B[49m\u001B[43m \u001B[49m\u001B[43mtraceback\u001B[49m\u001B[43m)\u001B[49m\n\u001B[1;32m    132\u001B[0m \u001B[38;5;28;01mexcept\u001B[39;00m \u001B[38;5;167;01mStopIteration\u001B[39;00m \u001B[38;5;28;01mas\u001B[39;00m exc:\n\u001B[1;32m    133\u001B[0m     \u001B[38;5;66;03m# Suppress StopIteration *unless* it's the same exception that\u001B[39;00m\n\u001B[1;32m    134\u001B[0m     \u001B[38;5;66;03m# was passed to throw().  This prevents a StopIteration\u001B[39;00m\n\u001B[1;32m    135\u001B[0m     \u001B[38;5;66;03m# raised inside the \"with\" statement from being suppressed.\u001B[39;00m\n\u001B[1;32m    136\u001B[0m     \u001B[38;5;28;01mreturn\u001B[39;00m exc \u001B[38;5;129;01mis\u001B[39;00m \u001B[38;5;129;01mnot\u001B[39;00m value\n",
      "File \u001B[0;32m~/git/huggingface_project_template/venv/lib/python3.8/site-packages/httpcore/_exceptions.py:12\u001B[0m, in \u001B[0;36mmap_exceptions\u001B[0;34m(map)\u001B[0m\n\u001B[1;32m     10\u001B[0m \u001B[38;5;28;01mfor\u001B[39;00m from_exc, to_exc \u001B[38;5;129;01min\u001B[39;00m \u001B[38;5;28mmap\u001B[39m\u001B[38;5;241m.\u001B[39mitems():\n\u001B[1;32m     11\u001B[0m     \u001B[38;5;28;01mif\u001B[39;00m \u001B[38;5;28misinstance\u001B[39m(exc, from_exc):\n\u001B[0;32m---> 12\u001B[0m         \u001B[38;5;28;01mraise\u001B[39;00m to_exc(exc) \u001B[38;5;28;01mfrom\u001B[39;00m \u001B[38;5;28mNone\u001B[39m\n\u001B[1;32m     13\u001B[0m \u001B[38;5;28;01mraise\u001B[39;00m\n",
      "\u001B[0;31mReadTimeout\u001B[0m: The read operation timed out"
     ]
    }
   ],
   "source": [
    "df_ar['translated_value'] = df_ar['text'].progress_apply(lambda x: translator.translate(x, dest='en').text)\n"
   ],
   "metadata": {
    "collapsed": false,
    "pycharm": {
     "name": "#%%\n"
    }
   }
  },
  {
   "cell_type": "code",
   "execution_count": 87,
   "outputs": [],
   "source": [
    "df_ar['translated_value'] = pd.NaT"
   ],
   "metadata": {
    "collapsed": false,
    "pycharm": {
     "name": "#%%\n"
    }
   }
  },
  {
   "cell_type": "code",
   "execution_count": 36,
   "outputs": [
    {
     "data": {
      "text/plain": "     text ner translated_value\n0       و   O              NaT\n1  مصابان   O              NaT\n2      في   O              NaT\n3   أحداث   O              NaT\n4     عنف   O              NaT",
      "text/html": "<div>\n<style scoped>\n    .dataframe tbody tr th:only-of-type {\n        vertical-align: middle;\n    }\n\n    .dataframe tbody tr th {\n        vertical-align: top;\n    }\n\n    .dataframe thead th {\n        text-align: right;\n    }\n</style>\n<table border=\"1\" class=\"dataframe\">\n  <thead>\n    <tr style=\"text-align: right;\">\n      <th></th>\n      <th>text</th>\n      <th>ner</th>\n      <th>translated_value</th>\n    </tr>\n  </thead>\n  <tbody>\n    <tr>\n      <th>0</th>\n      <td>و</td>\n      <td>O</td>\n      <td>NaT</td>\n    </tr>\n    <tr>\n      <th>1</th>\n      <td>مصابان</td>\n      <td>O</td>\n      <td>NaT</td>\n    </tr>\n    <tr>\n      <th>2</th>\n      <td>في</td>\n      <td>O</td>\n      <td>NaT</td>\n    </tr>\n    <tr>\n      <th>3</th>\n      <td>أحداث</td>\n      <td>O</td>\n      <td>NaT</td>\n    </tr>\n    <tr>\n      <th>4</th>\n      <td>عنف</td>\n      <td>O</td>\n      <td>NaT</td>\n    </tr>\n  </tbody>\n</table>\n</div>"
     },
     "execution_count": 36,
     "metadata": {},
     "output_type": "execute_result"
    }
   ],
   "source": [
    "df_ar['translated_value'] = df_ar['text'].progress_apply(lambda x: translator.translate(x, dest='en').text)"
   ],
   "metadata": {
    "collapsed": false,
    "pycharm": {
     "name": "#%%\n"
    }
   }
  },
  {
   "cell_type": "code",
   "execution_count": 67,
   "outputs": [
    {
     "data": {
      "text/plain": "8026"
     },
     "execution_count": 67,
     "metadata": {},
     "output_type": "execute_result"
    }
   ],
   "source": [
    "len(df_ar) // 100"
   ],
   "metadata": {
    "collapsed": false,
    "pycharm": {
     "name": "#%%\n"
    }
   }
  },
  {
   "cell_type": "code",
   "execution_count": 68,
   "outputs": [
    {
     "data": {
      "text/plain": "     text ner  sentence_id\n0       و   O            0\n1  مصابان   O            0\n2      في   O            0\n3   أحداث   O            0\n4     عنف   O            0",
      "text/html": "<div>\n<style scoped>\n    .dataframe tbody tr th:only-of-type {\n        vertical-align: middle;\n    }\n\n    .dataframe tbody tr th {\n        vertical-align: top;\n    }\n\n    .dataframe thead th {\n        text-align: right;\n    }\n</style>\n<table border=\"1\" class=\"dataframe\">\n  <thead>\n    <tr style=\"text-align: right;\">\n      <th></th>\n      <th>text</th>\n      <th>ner</th>\n      <th>sentence_id</th>\n    </tr>\n  </thead>\n  <tbody>\n    <tr>\n      <th>0</th>\n      <td>و</td>\n      <td>O</td>\n      <td>0</td>\n    </tr>\n    <tr>\n      <th>1</th>\n      <td>مصابان</td>\n      <td>O</td>\n      <td>0</td>\n    </tr>\n    <tr>\n      <th>2</th>\n      <td>في</td>\n      <td>O</td>\n      <td>0</td>\n    </tr>\n    <tr>\n      <th>3</th>\n      <td>أحداث</td>\n      <td>O</td>\n      <td>0</td>\n    </tr>\n    <tr>\n      <th>4</th>\n      <td>عنف</td>\n      <td>O</td>\n      <td>0</td>\n    </tr>\n  </tbody>\n</table>\n</div>"
     },
     "execution_count": 68,
     "metadata": {},
     "output_type": "execute_result"
    }
   ],
   "source": [
    "df_ar.head()"
   ],
   "metadata": {
    "collapsed": false,
    "pycharm": {
     "name": "#%%\n"
    }
   }
  },
  {
   "cell_type": "code",
   "execution_count": null,
   "outputs": [
    {
     "name": "stdout",
     "output_type": "stream",
     "text": [
      "0\n"
     ]
    },
    {
     "name": "stderr",
     "output_type": "stream",
     "text": [
      "100%|██████████| 1001/1001 [04:45<00:00,  3.51it/s]\n",
      "/tmp/ipykernel_947751/3325904549.py:7: SettingWithCopyWarning: \n",
      "A value is trying to be set on a copy of a slice from a DataFrame\n",
      "\n",
      "See the caveats in the documentation: https://pandas.pydata.org/pandas-docs/stable/user_guide/indexing.html#returning-a-view-versus-a-copy\n",
      "  df_ar['translated_value'].loc[start:end] = df_ar['text'].loc[start:end].progress_apply(\n"
     ]
    },
    {
     "name": "stdout",
     "output_type": "stream",
     "text": [
      "1\n"
     ]
    },
    {
     "name": "stderr",
     "output_type": "stream",
     "text": [
      " 60%|██████    | 602/1001 [02:52<01:48,  3.66it/s]"
     ]
    }
   ],
   "source": [
    "batch_size = 1000\n",
    "nof_batches = (len(df_ar) // batch_size) + 1\n",
    "for batch_id in range(nof_batches):\n",
    "    print(batch_id)\n",
    "    start = batch_id * batch_size\n",
    "    end = start + batch_size\n",
    "    df_ar['translated_value'].loc[start:end] = df_ar['text'].loc[start:end].progress_apply(\n",
    "        lambda x: translator.translate(x, dest='en').text\n",
    "    )"
   ],
   "metadata": {
    "collapsed": false,
    "pycharm": {
     "name": "#%%\n",
     "is_executing": true
    }
   }
  },
  {
   "cell_type": "code",
   "execution_count": 89,
   "outputs": [
    {
     "data": {
      "text/plain": "      text      ner  sentence_id translated_value\n0        و        O            0              And\n1   مصابان        O            0      two injured\n2       في        O            0               in\n3    أحداث        O            0           events\n4      عنف        O            0         violence\n5       في        O            0               in\n6       ال        O            0              The\n7    مجتمع        O            0          complex\n8       ال        O            0              The\n9     عربي        O            0           Arabic\n10    خلال        O            0           During\n11     يوم  B-TIMEX            0              day\n12      ال  I-TIMEX            0              The\n13   غفران  E-TIMEX            0        remission\n14    عشية        O            0              eve\n15      ال        O            0              The\n16     عيد        O            0            Feast\n17    قُتل        O            0          killing\n18     أحد        O            0              one\n19    سكان        O            0       population\n20     عكا    S-GPE            0             Acre\n21    الذي        O            0             that\n22    يبلغ        O            0            reach\n23      من        O            0             From\n24      ال        O            0              The\n25     عمر        O            0              age\n26      38        O            0               38\n27    عاما        O            0            years\n28       و        O            0              And\n29     أحد        O            0              one",
      "text/html": "<div>\n<style scoped>\n    .dataframe tbody tr th:only-of-type {\n        vertical-align: middle;\n    }\n\n    .dataframe tbody tr th {\n        vertical-align: top;\n    }\n\n    .dataframe thead th {\n        text-align: right;\n    }\n</style>\n<table border=\"1\" class=\"dataframe\">\n  <thead>\n    <tr style=\"text-align: right;\">\n      <th></th>\n      <th>text</th>\n      <th>ner</th>\n      <th>sentence_id</th>\n      <th>translated_value</th>\n    </tr>\n  </thead>\n  <tbody>\n    <tr>\n      <th>0</th>\n      <td>و</td>\n      <td>O</td>\n      <td>0</td>\n      <td>And</td>\n    </tr>\n    <tr>\n      <th>1</th>\n      <td>مصابان</td>\n      <td>O</td>\n      <td>0</td>\n      <td>two injured</td>\n    </tr>\n    <tr>\n      <th>2</th>\n      <td>في</td>\n      <td>O</td>\n      <td>0</td>\n      <td>in</td>\n    </tr>\n    <tr>\n      <th>3</th>\n      <td>أحداث</td>\n      <td>O</td>\n      <td>0</td>\n      <td>events</td>\n    </tr>\n    <tr>\n      <th>4</th>\n      <td>عنف</td>\n      <td>O</td>\n      <td>0</td>\n      <td>violence</td>\n    </tr>\n    <tr>\n      <th>5</th>\n      <td>في</td>\n      <td>O</td>\n      <td>0</td>\n      <td>in</td>\n    </tr>\n    <tr>\n      <th>6</th>\n      <td>ال</td>\n      <td>O</td>\n      <td>0</td>\n      <td>The</td>\n    </tr>\n    <tr>\n      <th>7</th>\n      <td>مجتمع</td>\n      <td>O</td>\n      <td>0</td>\n      <td>complex</td>\n    </tr>\n    <tr>\n      <th>8</th>\n      <td>ال</td>\n      <td>O</td>\n      <td>0</td>\n      <td>The</td>\n    </tr>\n    <tr>\n      <th>9</th>\n      <td>عربي</td>\n      <td>O</td>\n      <td>0</td>\n      <td>Arabic</td>\n    </tr>\n    <tr>\n      <th>10</th>\n      <td>خلال</td>\n      <td>O</td>\n      <td>0</td>\n      <td>During</td>\n    </tr>\n    <tr>\n      <th>11</th>\n      <td>يوم</td>\n      <td>B-TIMEX</td>\n      <td>0</td>\n      <td>day</td>\n    </tr>\n    <tr>\n      <th>12</th>\n      <td>ال</td>\n      <td>I-TIMEX</td>\n      <td>0</td>\n      <td>The</td>\n    </tr>\n    <tr>\n      <th>13</th>\n      <td>غفران</td>\n      <td>E-TIMEX</td>\n      <td>0</td>\n      <td>remission</td>\n    </tr>\n    <tr>\n      <th>14</th>\n      <td>عشية</td>\n      <td>O</td>\n      <td>0</td>\n      <td>eve</td>\n    </tr>\n    <tr>\n      <th>15</th>\n      <td>ال</td>\n      <td>O</td>\n      <td>0</td>\n      <td>The</td>\n    </tr>\n    <tr>\n      <th>16</th>\n      <td>عيد</td>\n      <td>O</td>\n      <td>0</td>\n      <td>Feast</td>\n    </tr>\n    <tr>\n      <th>17</th>\n      <td>قُتل</td>\n      <td>O</td>\n      <td>0</td>\n      <td>killing</td>\n    </tr>\n    <tr>\n      <th>18</th>\n      <td>أحد</td>\n      <td>O</td>\n      <td>0</td>\n      <td>one</td>\n    </tr>\n    <tr>\n      <th>19</th>\n      <td>سكان</td>\n      <td>O</td>\n      <td>0</td>\n      <td>population</td>\n    </tr>\n    <tr>\n      <th>20</th>\n      <td>عكا</td>\n      <td>S-GPE</td>\n      <td>0</td>\n      <td>Acre</td>\n    </tr>\n    <tr>\n      <th>21</th>\n      <td>الذي</td>\n      <td>O</td>\n      <td>0</td>\n      <td>that</td>\n    </tr>\n    <tr>\n      <th>22</th>\n      <td>يبلغ</td>\n      <td>O</td>\n      <td>0</td>\n      <td>reach</td>\n    </tr>\n    <tr>\n      <th>23</th>\n      <td>من</td>\n      <td>O</td>\n      <td>0</td>\n      <td>From</td>\n    </tr>\n    <tr>\n      <th>24</th>\n      <td>ال</td>\n      <td>O</td>\n      <td>0</td>\n      <td>The</td>\n    </tr>\n    <tr>\n      <th>25</th>\n      <td>عمر</td>\n      <td>O</td>\n      <td>0</td>\n      <td>age</td>\n    </tr>\n    <tr>\n      <th>26</th>\n      <td>38</td>\n      <td>O</td>\n      <td>0</td>\n      <td>38</td>\n    </tr>\n    <tr>\n      <th>27</th>\n      <td>عاما</td>\n      <td>O</td>\n      <td>0</td>\n      <td>years</td>\n    </tr>\n    <tr>\n      <th>28</th>\n      <td>و</td>\n      <td>O</td>\n      <td>0</td>\n      <td>And</td>\n    </tr>\n    <tr>\n      <th>29</th>\n      <td>أحد</td>\n      <td>O</td>\n      <td>0</td>\n      <td>one</td>\n    </tr>\n  </tbody>\n</table>\n</div>"
     },
     "execution_count": 89,
     "metadata": {},
     "output_type": "execute_result"
    }
   ],
   "source": [
    "df_ar.head(30)"
   ],
   "metadata": {
    "collapsed": false,
    "pycharm": {
     "name": "#%%\n"
    }
   }
  },
  {
   "cell_type": "code",
   "execution_count": null,
   "outputs": [],
   "source": [],
   "metadata": {
    "collapsed": false,
    "pycharm": {
     "name": "#%%\n"
    }
   }
  },
  {
   "cell_type": "code",
   "execution_count": null,
   "outputs": [],
   "source": [],
   "metadata": {
    "collapsed": false,
    "pycharm": {
     "name": "#%%\n"
    }
   }
  },
  {
   "cell_type": "code",
   "execution_count": 70,
   "outputs": [
    {
     "ename": "KeyError",
     "evalue": "'Cannot get left slice bound for non-unique label: 0'",
     "output_type": "error",
     "traceback": [
      "\u001B[0;31m---------------------------------------------------------------------------\u001B[0m",
      "\u001B[0;31mKeyError\u001B[0m                                  Traceback (most recent call last)",
      "Input \u001B[0;32mIn [70]\u001B[0m, in \u001B[0;36m<cell line: 1>\u001B[0;34m()\u001B[0m\n\u001B[0;32m----> 1\u001B[0m df_ar[\u001B[38;5;124m'\u001B[39m\u001B[38;5;124mtranslated_value\u001B[39m\u001B[38;5;124m'\u001B[39m]\u001B[38;5;241m.\u001B[39mloc[\u001B[38;5;241m0\u001B[39m:\u001B[38;5;241m10\u001B[39m] \u001B[38;5;241m=\u001B[39m \u001B[43mdf_ar\u001B[49m\u001B[43m[\u001B[49m\u001B[38;5;124;43m'\u001B[39;49m\u001B[38;5;124;43mtext\u001B[39;49m\u001B[38;5;124;43m'\u001B[39;49m\u001B[43m]\u001B[49m\u001B[38;5;241;43m.\u001B[39;49m\u001B[43mloc\u001B[49m\u001B[43m[\u001B[49m\u001B[38;5;241;43m0\u001B[39;49m\u001B[43m:\u001B[49m\u001B[38;5;241;43m10\u001B[39;49m\u001B[43m]\u001B[49m\u001B[38;5;241m.\u001B[39mprogress_apply(\u001B[38;5;28;01mlambda\u001B[39;00m x: translator\u001B[38;5;241m.\u001B[39mtranslate(x, dest\u001B[38;5;241m=\u001B[39m\u001B[38;5;124m'\u001B[39m\u001B[38;5;124men\u001B[39m\u001B[38;5;124m'\u001B[39m)\u001B[38;5;241m.\u001B[39mtext)\n",
      "File \u001B[0;32m~/git/huggingface_project_template/venv/lib/python3.8/site-packages/pandas/core/indexing.py:967\u001B[0m, in \u001B[0;36m_LocationIndexer.__getitem__\u001B[0;34m(self, key)\u001B[0m\n\u001B[1;32m    964\u001B[0m axis \u001B[38;5;241m=\u001B[39m \u001B[38;5;28mself\u001B[39m\u001B[38;5;241m.\u001B[39maxis \u001B[38;5;129;01mor\u001B[39;00m \u001B[38;5;241m0\u001B[39m\n\u001B[1;32m    966\u001B[0m maybe_callable \u001B[38;5;241m=\u001B[39m com\u001B[38;5;241m.\u001B[39mapply_if_callable(key, \u001B[38;5;28mself\u001B[39m\u001B[38;5;241m.\u001B[39mobj)\n\u001B[0;32m--> 967\u001B[0m \u001B[38;5;28;01mreturn\u001B[39;00m \u001B[38;5;28;43mself\u001B[39;49m\u001B[38;5;241;43m.\u001B[39;49m\u001B[43m_getitem_axis\u001B[49m\u001B[43m(\u001B[49m\u001B[43mmaybe_callable\u001B[49m\u001B[43m,\u001B[49m\u001B[43m \u001B[49m\u001B[43maxis\u001B[49m\u001B[38;5;241;43m=\u001B[39;49m\u001B[43maxis\u001B[49m\u001B[43m)\u001B[49m\n",
      "File \u001B[0;32m~/git/huggingface_project_template/venv/lib/python3.8/site-packages/pandas/core/indexing.py:1180\u001B[0m, in \u001B[0;36m_LocIndexer._getitem_axis\u001B[0;34m(self, key, axis)\u001B[0m\n\u001B[1;32m   1178\u001B[0m \u001B[38;5;28;01mif\u001B[39;00m \u001B[38;5;28misinstance\u001B[39m(key, \u001B[38;5;28mslice\u001B[39m):\n\u001B[1;32m   1179\u001B[0m     \u001B[38;5;28mself\u001B[39m\u001B[38;5;241m.\u001B[39m_validate_key(key, axis)\n\u001B[0;32m-> 1180\u001B[0m     \u001B[38;5;28;01mreturn\u001B[39;00m \u001B[38;5;28;43mself\u001B[39;49m\u001B[38;5;241;43m.\u001B[39;49m\u001B[43m_get_slice_axis\u001B[49m\u001B[43m(\u001B[49m\u001B[43mkey\u001B[49m\u001B[43m,\u001B[49m\u001B[43m \u001B[49m\u001B[43maxis\u001B[49m\u001B[38;5;241;43m=\u001B[39;49m\u001B[43maxis\u001B[49m\u001B[43m)\u001B[49m\n\u001B[1;32m   1181\u001B[0m \u001B[38;5;28;01melif\u001B[39;00m com\u001B[38;5;241m.\u001B[39mis_bool_indexer(key):\n\u001B[1;32m   1182\u001B[0m     \u001B[38;5;28;01mreturn\u001B[39;00m \u001B[38;5;28mself\u001B[39m\u001B[38;5;241m.\u001B[39m_getbool_axis(key, axis\u001B[38;5;241m=\u001B[39maxis)\n",
      "File \u001B[0;32m~/git/huggingface_project_template/venv/lib/python3.8/site-packages/pandas/core/indexing.py:1214\u001B[0m, in \u001B[0;36m_LocIndexer._get_slice_axis\u001B[0;34m(self, slice_obj, axis)\u001B[0m\n\u001B[1;32m   1211\u001B[0m     \u001B[38;5;28;01mreturn\u001B[39;00m obj\u001B[38;5;241m.\u001B[39mcopy(deep\u001B[38;5;241m=\u001B[39m\u001B[38;5;28;01mFalse\u001B[39;00m)\n\u001B[1;32m   1213\u001B[0m labels \u001B[38;5;241m=\u001B[39m obj\u001B[38;5;241m.\u001B[39m_get_axis(axis)\n\u001B[0;32m-> 1214\u001B[0m indexer \u001B[38;5;241m=\u001B[39m \u001B[43mlabels\u001B[49m\u001B[38;5;241;43m.\u001B[39;49m\u001B[43mslice_indexer\u001B[49m\u001B[43m(\u001B[49m\u001B[43mslice_obj\u001B[49m\u001B[38;5;241;43m.\u001B[39;49m\u001B[43mstart\u001B[49m\u001B[43m,\u001B[49m\u001B[43m \u001B[49m\u001B[43mslice_obj\u001B[49m\u001B[38;5;241;43m.\u001B[39;49m\u001B[43mstop\u001B[49m\u001B[43m,\u001B[49m\u001B[43m \u001B[49m\u001B[43mslice_obj\u001B[49m\u001B[38;5;241;43m.\u001B[39;49m\u001B[43mstep\u001B[49m\u001B[43m)\u001B[49m\n\u001B[1;32m   1216\u001B[0m \u001B[38;5;28;01mif\u001B[39;00m \u001B[38;5;28misinstance\u001B[39m(indexer, \u001B[38;5;28mslice\u001B[39m):\n\u001B[1;32m   1217\u001B[0m     \u001B[38;5;28;01mreturn\u001B[39;00m \u001B[38;5;28mself\u001B[39m\u001B[38;5;241m.\u001B[39mobj\u001B[38;5;241m.\u001B[39m_slice(indexer, axis\u001B[38;5;241m=\u001B[39maxis)\n",
      "File \u001B[0;32m~/git/huggingface_project_template/venv/lib/python3.8/site-packages/pandas/core/indexes/base.py:6274\u001B[0m, in \u001B[0;36mIndex.slice_indexer\u001B[0;34m(self, start, end, step, kind)\u001B[0m\n\u001B[1;32m   6231\u001B[0m \u001B[38;5;124;03m\"\"\"\u001B[39;00m\n\u001B[1;32m   6232\u001B[0m \u001B[38;5;124;03mCompute the slice indexer for input labels and step.\u001B[39;00m\n\u001B[1;32m   6233\u001B[0m \n\u001B[0;32m   (...)\u001B[0m\n\u001B[1;32m   6270\u001B[0m \u001B[38;5;124;03mslice(1, 3, None)\u001B[39;00m\n\u001B[1;32m   6271\u001B[0m \u001B[38;5;124;03m\"\"\"\u001B[39;00m\n\u001B[1;32m   6272\u001B[0m \u001B[38;5;28mself\u001B[39m\u001B[38;5;241m.\u001B[39m_deprecated_arg(kind, \u001B[38;5;124m\"\u001B[39m\u001B[38;5;124mkind\u001B[39m\u001B[38;5;124m\"\u001B[39m, \u001B[38;5;124m\"\u001B[39m\u001B[38;5;124mslice_indexer\u001B[39m\u001B[38;5;124m\"\u001B[39m)\n\u001B[0;32m-> 6274\u001B[0m start_slice, end_slice \u001B[38;5;241m=\u001B[39m \u001B[38;5;28;43mself\u001B[39;49m\u001B[38;5;241;43m.\u001B[39;49m\u001B[43mslice_locs\u001B[49m\u001B[43m(\u001B[49m\u001B[43mstart\u001B[49m\u001B[43m,\u001B[49m\u001B[43m \u001B[49m\u001B[43mend\u001B[49m\u001B[43m,\u001B[49m\u001B[43m \u001B[49m\u001B[43mstep\u001B[49m\u001B[38;5;241;43m=\u001B[39;49m\u001B[43mstep\u001B[49m\u001B[43m)\u001B[49m\n\u001B[1;32m   6276\u001B[0m \u001B[38;5;66;03m# return a slice\u001B[39;00m\n\u001B[1;32m   6277\u001B[0m \u001B[38;5;28;01mif\u001B[39;00m \u001B[38;5;129;01mnot\u001B[39;00m is_scalar(start_slice):\n",
      "File \u001B[0;32m~/git/huggingface_project_template/venv/lib/python3.8/site-packages/pandas/core/indexes/base.py:6484\u001B[0m, in \u001B[0;36mIndex.slice_locs\u001B[0;34m(self, start, end, step, kind)\u001B[0m\n\u001B[1;32m   6482\u001B[0m start_slice \u001B[38;5;241m=\u001B[39m \u001B[38;5;28;01mNone\u001B[39;00m\n\u001B[1;32m   6483\u001B[0m \u001B[38;5;28;01mif\u001B[39;00m start \u001B[38;5;129;01mis\u001B[39;00m \u001B[38;5;129;01mnot\u001B[39;00m \u001B[38;5;28;01mNone\u001B[39;00m:\n\u001B[0;32m-> 6484\u001B[0m     start_slice \u001B[38;5;241m=\u001B[39m \u001B[38;5;28;43mself\u001B[39;49m\u001B[38;5;241;43m.\u001B[39;49m\u001B[43mget_slice_bound\u001B[49m\u001B[43m(\u001B[49m\u001B[43mstart\u001B[49m\u001B[43m,\u001B[49m\u001B[43m \u001B[49m\u001B[38;5;124;43m\"\u001B[39;49m\u001B[38;5;124;43mleft\u001B[39;49m\u001B[38;5;124;43m\"\u001B[39;49m\u001B[43m)\u001B[49m\n\u001B[1;32m   6485\u001B[0m \u001B[38;5;28;01mif\u001B[39;00m start_slice \u001B[38;5;129;01mis\u001B[39;00m \u001B[38;5;28;01mNone\u001B[39;00m:\n\u001B[1;32m   6486\u001B[0m     start_slice \u001B[38;5;241m=\u001B[39m \u001B[38;5;241m0\u001B[39m\n",
      "File \u001B[0;32m~/git/huggingface_project_template/venv/lib/python3.8/site-packages/pandas/core/indexes/base.py:6411\u001B[0m, in \u001B[0;36mIndex.get_slice_bound\u001B[0;34m(self, label, side, kind)\u001B[0m\n\u001B[1;32m   6409\u001B[0m     slc \u001B[38;5;241m=\u001B[39m lib\u001B[38;5;241m.\u001B[39mmaybe_booleans_to_slice(slc\u001B[38;5;241m.\u001B[39mview(\u001B[38;5;124m\"\u001B[39m\u001B[38;5;124mu1\u001B[39m\u001B[38;5;124m\"\u001B[39m))\n\u001B[1;32m   6410\u001B[0m     \u001B[38;5;28;01mif\u001B[39;00m \u001B[38;5;28misinstance\u001B[39m(slc, np\u001B[38;5;241m.\u001B[39mndarray):\n\u001B[0;32m-> 6411\u001B[0m         \u001B[38;5;28;01mraise\u001B[39;00m \u001B[38;5;167;01mKeyError\u001B[39;00m(\n\u001B[1;32m   6412\u001B[0m             \u001B[38;5;124mf\u001B[39m\u001B[38;5;124m\"\u001B[39m\u001B[38;5;124mCannot get \u001B[39m\u001B[38;5;132;01m{\u001B[39;00mside\u001B[38;5;132;01m}\u001B[39;00m\u001B[38;5;124m slice bound for non-unique \u001B[39m\u001B[38;5;124m\"\u001B[39m\n\u001B[1;32m   6413\u001B[0m             \u001B[38;5;124mf\u001B[39m\u001B[38;5;124m\"\u001B[39m\u001B[38;5;124mlabel: \u001B[39m\u001B[38;5;132;01m{\u001B[39;00m\u001B[38;5;28mrepr\u001B[39m(original_label)\u001B[38;5;132;01m}\u001B[39;00m\u001B[38;5;124m\"\u001B[39m\n\u001B[1;32m   6414\u001B[0m         )\n\u001B[1;32m   6416\u001B[0m \u001B[38;5;28;01mif\u001B[39;00m \u001B[38;5;28misinstance\u001B[39m(slc, \u001B[38;5;28mslice\u001B[39m):\n\u001B[1;32m   6417\u001B[0m     \u001B[38;5;28;01mif\u001B[39;00m side \u001B[38;5;241m==\u001B[39m \u001B[38;5;124m\"\u001B[39m\u001B[38;5;124mleft\u001B[39m\u001B[38;5;124m\"\u001B[39m:\n",
      "\u001B[0;31mKeyError\u001B[0m: 'Cannot get left slice bound for non-unique label: 0'"
     ]
    }
   ],
   "source": [
    "df_ar['translated_value'].loc[0:10] = df_ar['text'].loc[0:10].progress_apply(lambda x: translator.translate(x, dest='en').text)"
   ],
   "metadata": {
    "collapsed": false,
    "pycharm": {
     "name": "#%%\n"
    }
   }
  },
  {
   "cell_type": "code",
   "execution_count": 86,
   "outputs": [
    {
     "ename": "KeyError",
     "evalue": "'translated_value'",
     "output_type": "error",
     "traceback": [
      "\u001B[0;31m---------------------------------------------------------------------------\u001B[0m",
      "\u001B[0;31mKeyError\u001B[0m                                  Traceback (most recent call last)",
      "File \u001B[0;32m~/git/huggingface_project_template/venv/lib/python3.8/site-packages/pandas/core/indexes/base.py:3621\u001B[0m, in \u001B[0;36mIndex.get_loc\u001B[0;34m(self, key, method, tolerance)\u001B[0m\n\u001B[1;32m   3620\u001B[0m \u001B[38;5;28;01mtry\u001B[39;00m:\n\u001B[0;32m-> 3621\u001B[0m     \u001B[38;5;28;01mreturn\u001B[39;00m \u001B[38;5;28;43mself\u001B[39;49m\u001B[38;5;241;43m.\u001B[39;49m\u001B[43m_engine\u001B[49m\u001B[38;5;241;43m.\u001B[39;49m\u001B[43mget_loc\u001B[49m\u001B[43m(\u001B[49m\u001B[43mcasted_key\u001B[49m\u001B[43m)\u001B[49m\n\u001B[1;32m   3622\u001B[0m \u001B[38;5;28;01mexcept\u001B[39;00m \u001B[38;5;167;01mKeyError\u001B[39;00m \u001B[38;5;28;01mas\u001B[39;00m err:\n",
      "File \u001B[0;32m~/git/huggingface_project_template/venv/lib/python3.8/site-packages/pandas/_libs/index.pyx:136\u001B[0m, in \u001B[0;36mpandas._libs.index.IndexEngine.get_loc\u001B[0;34m()\u001B[0m\n",
      "File \u001B[0;32m~/git/huggingface_project_template/venv/lib/python3.8/site-packages/pandas/_libs/index.pyx:163\u001B[0m, in \u001B[0;36mpandas._libs.index.IndexEngine.get_loc\u001B[0;34m()\u001B[0m\n",
      "File \u001B[0;32mpandas/_libs/hashtable_class_helper.pxi:5198\u001B[0m, in \u001B[0;36mpandas._libs.hashtable.PyObjectHashTable.get_item\u001B[0;34m()\u001B[0m\n",
      "File \u001B[0;32mpandas/_libs/hashtable_class_helper.pxi:5206\u001B[0m, in \u001B[0;36mpandas._libs.hashtable.PyObjectHashTable.get_item\u001B[0;34m()\u001B[0m\n",
      "\u001B[0;31mKeyError\u001B[0m: 'translated_value'",
      "\nThe above exception was the direct cause of the following exception:\n",
      "\u001B[0;31mKeyError\u001B[0m                                  Traceback (most recent call last)",
      "Input \u001B[0;32mIn [86]\u001B[0m, in \u001B[0;36m<cell line: 1>\u001B[0;34m()\u001B[0m\n\u001B[0;32m----> 1\u001B[0m \u001B[43mdf_ar\u001B[49m\u001B[43m[\u001B[49m\u001B[38;5;124;43m'\u001B[39;49m\u001B[38;5;124;43mtranslated_value\u001B[39;49m\u001B[38;5;124;43m'\u001B[39;49m\u001B[43m]\u001B[49m\u001B[38;5;241m.\u001B[39mloc[\u001B[38;5;241m0\u001B[39m:\u001B[38;5;241m10\u001B[39m]\n",
      "File \u001B[0;32m~/git/huggingface_project_template/venv/lib/python3.8/site-packages/pandas/core/frame.py:3505\u001B[0m, in \u001B[0;36mDataFrame.__getitem__\u001B[0;34m(self, key)\u001B[0m\n\u001B[1;32m   3503\u001B[0m \u001B[38;5;28;01mif\u001B[39;00m \u001B[38;5;28mself\u001B[39m\u001B[38;5;241m.\u001B[39mcolumns\u001B[38;5;241m.\u001B[39mnlevels \u001B[38;5;241m>\u001B[39m \u001B[38;5;241m1\u001B[39m:\n\u001B[1;32m   3504\u001B[0m     \u001B[38;5;28;01mreturn\u001B[39;00m \u001B[38;5;28mself\u001B[39m\u001B[38;5;241m.\u001B[39m_getitem_multilevel(key)\n\u001B[0;32m-> 3505\u001B[0m indexer \u001B[38;5;241m=\u001B[39m \u001B[38;5;28;43mself\u001B[39;49m\u001B[38;5;241;43m.\u001B[39;49m\u001B[43mcolumns\u001B[49m\u001B[38;5;241;43m.\u001B[39;49m\u001B[43mget_loc\u001B[49m\u001B[43m(\u001B[49m\u001B[43mkey\u001B[49m\u001B[43m)\u001B[49m\n\u001B[1;32m   3506\u001B[0m \u001B[38;5;28;01mif\u001B[39;00m is_integer(indexer):\n\u001B[1;32m   3507\u001B[0m     indexer \u001B[38;5;241m=\u001B[39m [indexer]\n",
      "File \u001B[0;32m~/git/huggingface_project_template/venv/lib/python3.8/site-packages/pandas/core/indexes/base.py:3623\u001B[0m, in \u001B[0;36mIndex.get_loc\u001B[0;34m(self, key, method, tolerance)\u001B[0m\n\u001B[1;32m   3621\u001B[0m     \u001B[38;5;28;01mreturn\u001B[39;00m \u001B[38;5;28mself\u001B[39m\u001B[38;5;241m.\u001B[39m_engine\u001B[38;5;241m.\u001B[39mget_loc(casted_key)\n\u001B[1;32m   3622\u001B[0m \u001B[38;5;28;01mexcept\u001B[39;00m \u001B[38;5;167;01mKeyError\u001B[39;00m \u001B[38;5;28;01mas\u001B[39;00m err:\n\u001B[0;32m-> 3623\u001B[0m     \u001B[38;5;28;01mraise\u001B[39;00m \u001B[38;5;167;01mKeyError\u001B[39;00m(key) \u001B[38;5;28;01mfrom\u001B[39;00m \u001B[38;5;21;01merr\u001B[39;00m\n\u001B[1;32m   3624\u001B[0m \u001B[38;5;28;01mexcept\u001B[39;00m \u001B[38;5;167;01mTypeError\u001B[39;00m:\n\u001B[1;32m   3625\u001B[0m     \u001B[38;5;66;03m# If we have a listlike key, _check_indexing_error will raise\u001B[39;00m\n\u001B[1;32m   3626\u001B[0m     \u001B[38;5;66;03m#  InvalidIndexError. Otherwise we fall through and re-raise\u001B[39;00m\n\u001B[1;32m   3627\u001B[0m     \u001B[38;5;66;03m#  the TypeError.\u001B[39;00m\n\u001B[1;32m   3628\u001B[0m     \u001B[38;5;28mself\u001B[39m\u001B[38;5;241m.\u001B[39m_check_indexing_error(key)\n",
      "\u001B[0;31mKeyError\u001B[0m: 'translated_value'"
     ]
    }
   ],
   "source": [
    "df_ar['translated_value'].loc[0:10]"
   ],
   "metadata": {
    "collapsed": false,
    "pycharm": {
     "name": "#%%\n"
    }
   }
  },
  {
   "cell_type": "code",
   "execution_count": null,
   "outputs": [],
   "source": [],
   "metadata": {
    "collapsed": false,
    "pycharm": {
     "name": "#%%\n"
    }
   }
  }
 ],
 "metadata": {
  "kernelspec": {
   "display_name": "Python 3",
   "language": "python",
   "name": "python3"
  },
  "language_info": {
   "codemirror_mode": {
    "name": "ipython",
    "version": 2
   },
   "file_extension": ".py",
   "mimetype": "text/x-python",
   "name": "python",
   "nbconvert_exporter": "python",
   "pygments_lexer": "ipython2",
   "version": "2.7.6"
  }
 },
 "nbformat": 4,
 "nbformat_minor": 0
}